{
 "cells": [
  {
   "cell_type": "code",
   "execution_count": 36,
   "id": "946d12d1",
   "metadata": {
    "scrolled": true
   },
   "outputs": [],
   "source": [
    "# imports important libraries\n",
    "import numpy as np\n",
    "import pandas as pd\n",
    "from matplotlib import pyplot as plt\n",
    "import seaborn as sns"
   ]
  },
  {
   "cell_type": "code",
   "execution_count": 37,
   "id": "ca1d4ed5",
   "metadata": {
    "scrolled": true
   },
   "outputs": [],
   "source": [
    "data_train = pd.read_excel('F:\\Desktop\\Project\\Train.xlsx')\n",
    "data_test = pd.read_excel('F:\\Desktop\\Project\\Test.xlsx')"
   ]
  },
  {
   "cell_type": "code",
   "execution_count": 38,
   "id": "517b16fa",
   "metadata": {
    "scrolled": true
   },
   "outputs": [
    {
     "data": {
      "text/html": [
       "<div>\n",
       "<style scoped>\n",
       "    .dataframe tbody tr th:only-of-type {\n",
       "        vertical-align: middle;\n",
       "    }\n",
       "\n",
       "    .dataframe tbody tr th {\n",
       "        vertical-align: top;\n",
       "    }\n",
       "\n",
       "    .dataframe thead th {\n",
       "        text-align: right;\n",
       "    }\n",
       "</style>\n",
       "<table border=\"1\" class=\"dataframe\">\n",
       "  <thead>\n",
       "    <tr style=\"text-align: right;\">\n",
       "      <th></th>\n",
       "      <th>Brand_Name</th>\n",
       "      <th>battery_power</th>\n",
       "      <th>int_memory</th>\n",
       "      <th>mobile_wt</th>\n",
       "      <th>n_cores</th>\n",
       "      <th>pc</th>\n",
       "      <th>ram</th>\n",
       "      <th>sc_h</th>\n",
       "      <th>sc_w</th>\n",
       "      <th>touch_screen</th>\n",
       "      <th>price_range</th>\n",
       "    </tr>\n",
       "  </thead>\n",
       "  <tbody>\n",
       "    <tr>\n",
       "      <th>0</th>\n",
       "      <td>symphony</td>\n",
       "      <td>842</td>\n",
       "      <td>7</td>\n",
       "      <td>188</td>\n",
       "      <td>2</td>\n",
       "      <td>2</td>\n",
       "      <td>2549</td>\n",
       "      <td>9</td>\n",
       "      <td>7</td>\n",
       "      <td>0</td>\n",
       "      <td>1</td>\n",
       "    </tr>\n",
       "    <tr>\n",
       "      <th>1</th>\n",
       "      <td>iphone</td>\n",
       "      <td>1021</td>\n",
       "      <td>53</td>\n",
       "      <td>136</td>\n",
       "      <td>4</td>\n",
       "      <td>6</td>\n",
       "      <td>2631</td>\n",
       "      <td>17</td>\n",
       "      <td>10</td>\n",
       "      <td>1</td>\n",
       "      <td>3</td>\n",
       "    </tr>\n",
       "    <tr>\n",
       "      <th>2</th>\n",
       "      <td>sony</td>\n",
       "      <td>563</td>\n",
       "      <td>41</td>\n",
       "      <td>145</td>\n",
       "      <td>5</td>\n",
       "      <td>6</td>\n",
       "      <td>2603</td>\n",
       "      <td>11</td>\n",
       "      <td>2</td>\n",
       "      <td>1</td>\n",
       "      <td>2</td>\n",
       "    </tr>\n",
       "    <tr>\n",
       "      <th>3</th>\n",
       "      <td>samsung</td>\n",
       "      <td>615</td>\n",
       "      <td>10</td>\n",
       "      <td>131</td>\n",
       "      <td>6</td>\n",
       "      <td>9</td>\n",
       "      <td>2769</td>\n",
       "      <td>16</td>\n",
       "      <td>8</td>\n",
       "      <td>0</td>\n",
       "      <td>2</td>\n",
       "    </tr>\n",
       "    <tr>\n",
       "      <th>4</th>\n",
       "      <td>sony</td>\n",
       "      <td>1821</td>\n",
       "      <td>44</td>\n",
       "      <td>141</td>\n",
       "      <td>2</td>\n",
       "      <td>14</td>\n",
       "      <td>1411</td>\n",
       "      <td>12</td>\n",
       "      <td>8</td>\n",
       "      <td>1</td>\n",
       "      <td>1</td>\n",
       "    </tr>\n",
       "    <tr>\n",
       "      <th>...</th>\n",
       "      <td>...</td>\n",
       "      <td>...</td>\n",
       "      <td>...</td>\n",
       "      <td>...</td>\n",
       "      <td>...</td>\n",
       "      <td>...</td>\n",
       "      <td>...</td>\n",
       "      <td>...</td>\n",
       "      <td>...</td>\n",
       "      <td>...</td>\n",
       "      <td>...</td>\n",
       "    </tr>\n",
       "    <tr>\n",
       "      <th>1594</th>\n",
       "      <td>nokia</td>\n",
       "      <td>586</td>\n",
       "      <td>42</td>\n",
       "      <td>121</td>\n",
       "      <td>7</td>\n",
       "      <td>17</td>\n",
       "      <td>1869</td>\n",
       "      <td>12</td>\n",
       "      <td>2</td>\n",
       "      <td>1</td>\n",
       "      <td>1</td>\n",
       "    </tr>\n",
       "    <tr>\n",
       "      <th>1595</th>\n",
       "      <td>sony</td>\n",
       "      <td>1206</td>\n",
       "      <td>30</td>\n",
       "      <td>127</td>\n",
       "      <td>3</td>\n",
       "      <td>13</td>\n",
       "      <td>1825</td>\n",
       "      <td>7</td>\n",
       "      <td>1</td>\n",
       "      <td>0</td>\n",
       "      <td>2</td>\n",
       "    </tr>\n",
       "    <tr>\n",
       "      <th>1596</th>\n",
       "      <td>google</td>\n",
       "      <td>832</td>\n",
       "      <td>5</td>\n",
       "      <td>165</td>\n",
       "      <td>5</td>\n",
       "      <td>2</td>\n",
       "      <td>3946</td>\n",
       "      <td>12</td>\n",
       "      <td>5</td>\n",
       "      <td>1</td>\n",
       "      <td>3</td>\n",
       "    </tr>\n",
       "    <tr>\n",
       "      <th>1597</th>\n",
       "      <td>maximus</td>\n",
       "      <td>848</td>\n",
       "      <td>8</td>\n",
       "      <td>103</td>\n",
       "      <td>7</td>\n",
       "      <td>3</td>\n",
       "      <td>436</td>\n",
       "      <td>10</td>\n",
       "      <td>6</td>\n",
       "      <td>1</td>\n",
       "      <td>0</td>\n",
       "    </tr>\n",
       "    <tr>\n",
       "      <th>1598</th>\n",
       "      <td>sony</td>\n",
       "      <td>1851</td>\n",
       "      <td>53</td>\n",
       "      <td>112</td>\n",
       "      <td>6</td>\n",
       "      <td>2</td>\n",
       "      <td>2678</td>\n",
       "      <td>6</td>\n",
       "      <td>0</td>\n",
       "      <td>0</td>\n",
       "      <td>2</td>\n",
       "    </tr>\n",
       "  </tbody>\n",
       "</table>\n",
       "<p>1599 rows × 11 columns</p>\n",
       "</div>"
      ],
      "text/plain": [
       "     Brand_Name  battery_power  int_memory  mobile_wt  n_cores  pc   ram  \\\n",
       "0      symphony            842           7        188        2   2  2549   \n",
       "1        iphone           1021          53        136        4   6  2631   \n",
       "2          sony            563          41        145        5   6  2603   \n",
       "3       samsung            615          10        131        6   9  2769   \n",
       "4          sony           1821          44        141        2  14  1411   \n",
       "...         ...            ...         ...        ...      ...  ..   ...   \n",
       "1594      nokia            586          42        121        7  17  1869   \n",
       "1595       sony           1206          30        127        3  13  1825   \n",
       "1596     google            832           5        165        5   2  3946   \n",
       "1597    maximus            848           8        103        7   3   436   \n",
       "1598       sony           1851          53        112        6   2  2678   \n",
       "\n",
       "      sc_h  sc_w  touch_screen  price_range  \n",
       "0        9     7             0            1  \n",
       "1       17    10             1            3  \n",
       "2       11     2             1            2  \n",
       "3       16     8             0            2  \n",
       "4       12     8             1            1  \n",
       "...    ...   ...           ...          ...  \n",
       "1594    12     2             1            1  \n",
       "1595     7     1             0            2  \n",
       "1596    12     5             1            3  \n",
       "1597    10     6             1            0  \n",
       "1598     6     0             0            2  \n",
       "\n",
       "[1599 rows x 11 columns]"
      ]
     },
     "execution_count": 38,
     "metadata": {},
     "output_type": "execute_result"
    }
   ],
   "source": [
    "#EDA / Explortory Data Analysis\n",
    "data_train"
   ]
  },
  {
   "cell_type": "code",
   "execution_count": 39,
   "id": "535a48db",
   "metadata": {
    "scrolled": true
   },
   "outputs": [
    {
     "data": {
      "text/html": [
       "<div>\n",
       "<style scoped>\n",
       "    .dataframe tbody tr th:only-of-type {\n",
       "        vertical-align: middle;\n",
       "    }\n",
       "\n",
       "    .dataframe tbody tr th {\n",
       "        vertical-align: top;\n",
       "    }\n",
       "\n",
       "    .dataframe thead th {\n",
       "        text-align: right;\n",
       "    }\n",
       "</style>\n",
       "<table border=\"1\" class=\"dataframe\">\n",
       "  <thead>\n",
       "    <tr style=\"text-align: right;\">\n",
       "      <th></th>\n",
       "      <th>Brand_Name</th>\n",
       "      <th>battery_power</th>\n",
       "      <th>int_memory</th>\n",
       "      <th>mobile_wt</th>\n",
       "      <th>n_cores</th>\n",
       "      <th>pc</th>\n",
       "      <th>ram</th>\n",
       "      <th>sc_h</th>\n",
       "      <th>sc_w</th>\n",
       "      <th>touch_screen</th>\n",
       "    </tr>\n",
       "  </thead>\n",
       "  <tbody>\n",
       "    <tr>\n",
       "      <th>0</th>\n",
       "      <td>google</td>\n",
       "      <td>1166</td>\n",
       "      <td>59</td>\n",
       "      <td>80</td>\n",
       "      <td>1</td>\n",
       "      <td>11</td>\n",
       "      <td>3887</td>\n",
       "      <td>8</td>\n",
       "      <td>6</td>\n",
       "      <td>0</td>\n",
       "    </tr>\n",
       "    <tr>\n",
       "      <th>1</th>\n",
       "      <td>oppo</td>\n",
       "      <td>1776</td>\n",
       "      <td>35</td>\n",
       "      <td>172</td>\n",
       "      <td>4</td>\n",
       "      <td>16</td>\n",
       "      <td>1813</td>\n",
       "      <td>16</td>\n",
       "      <td>13</td>\n",
       "      <td>1</td>\n",
       "    </tr>\n",
       "    <tr>\n",
       "      <th>2</th>\n",
       "      <td>maximus</td>\n",
       "      <td>1254</td>\n",
       "      <td>27</td>\n",
       "      <td>134</td>\n",
       "      <td>2</td>\n",
       "      <td>10</td>\n",
       "      <td>817</td>\n",
       "      <td>14</td>\n",
       "      <td>1</td>\n",
       "      <td>1</td>\n",
       "    </tr>\n",
       "    <tr>\n",
       "      <th>3</th>\n",
       "      <td>iphone</td>\n",
       "      <td>1494</td>\n",
       "      <td>24</td>\n",
       "      <td>101</td>\n",
       "      <td>1</td>\n",
       "      <td>17</td>\n",
       "      <td>3614</td>\n",
       "      <td>15</td>\n",
       "      <td>12</td>\n",
       "      <td>0</td>\n",
       "    </tr>\n",
       "    <tr>\n",
       "      <th>4</th>\n",
       "      <td>vivo</td>\n",
       "      <td>984</td>\n",
       "      <td>39</td>\n",
       "      <td>119</td>\n",
       "      <td>8</td>\n",
       "      <td>18</td>\n",
       "      <td>2013</td>\n",
       "      <td>11</td>\n",
       "      <td>7</td>\n",
       "      <td>1</td>\n",
       "    </tr>\n",
       "    <tr>\n",
       "      <th>...</th>\n",
       "      <td>...</td>\n",
       "      <td>...</td>\n",
       "      <td>...</td>\n",
       "      <td>...</td>\n",
       "      <td>...</td>\n",
       "      <td>...</td>\n",
       "      <td>...</td>\n",
       "      <td>...</td>\n",
       "      <td>...</td>\n",
       "      <td>...</td>\n",
       "    </tr>\n",
       "    <tr>\n",
       "      <th>396</th>\n",
       "      <td>sprint</td>\n",
       "      <td>794</td>\n",
       "      <td>2</td>\n",
       "      <td>106</td>\n",
       "      <td>6</td>\n",
       "      <td>14</td>\n",
       "      <td>668</td>\n",
       "      <td>13</td>\n",
       "      <td>4</td>\n",
       "      <td>1</td>\n",
       "    </tr>\n",
       "    <tr>\n",
       "      <th>397</th>\n",
       "      <td>huawei</td>\n",
       "      <td>1965</td>\n",
       "      <td>39</td>\n",
       "      <td>187</td>\n",
       "      <td>4</td>\n",
       "      <td>3</td>\n",
       "      <td>2032</td>\n",
       "      <td>11</td>\n",
       "      <td>10</td>\n",
       "      <td>1</td>\n",
       "    </tr>\n",
       "    <tr>\n",
       "      <th>398</th>\n",
       "      <td>iphone</td>\n",
       "      <td>1911</td>\n",
       "      <td>36</td>\n",
       "      <td>108</td>\n",
       "      <td>8</td>\n",
       "      <td>3</td>\n",
       "      <td>3057</td>\n",
       "      <td>9</td>\n",
       "      <td>1</td>\n",
       "      <td>1</td>\n",
       "    </tr>\n",
       "    <tr>\n",
       "      <th>399</th>\n",
       "      <td>xiomi</td>\n",
       "      <td>1512</td>\n",
       "      <td>46</td>\n",
       "      <td>145</td>\n",
       "      <td>5</td>\n",
       "      <td>5</td>\n",
       "      <td>869</td>\n",
       "      <td>18</td>\n",
       "      <td>10</td>\n",
       "      <td>1</td>\n",
       "    </tr>\n",
       "    <tr>\n",
       "      <th>400</th>\n",
       "      <td>blackberry</td>\n",
       "      <td>510</td>\n",
       "      <td>45</td>\n",
       "      <td>168</td>\n",
       "      <td>6</td>\n",
       "      <td>16</td>\n",
       "      <td>3919</td>\n",
       "      <td>19</td>\n",
       "      <td>4</td>\n",
       "      <td>1</td>\n",
       "    </tr>\n",
       "  </tbody>\n",
       "</table>\n",
       "<p>401 rows × 10 columns</p>\n",
       "</div>"
      ],
      "text/plain": [
       "     Brand_Name  battery_power  int_memory  mobile_wt  n_cores  pc   ram  \\\n",
       "0        google           1166          59         80        1  11  3887   \n",
       "1          oppo           1776          35        172        4  16  1813   \n",
       "2       maximus           1254          27        134        2  10   817   \n",
       "3        iphone           1494          24        101        1  17  3614   \n",
       "4          vivo            984          39        119        8  18  2013   \n",
       "..          ...            ...         ...        ...      ...  ..   ...   \n",
       "396      sprint            794           2        106        6  14   668   \n",
       "397      huawei           1965          39        187        4   3  2032   \n",
       "398      iphone           1911          36        108        8   3  3057   \n",
       "399       xiomi           1512          46        145        5   5   869   \n",
       "400  blackberry            510          45        168        6  16  3919   \n",
       "\n",
       "     sc_h  sc_w  touch_screen  \n",
       "0       8     6             0  \n",
       "1      16    13             1  \n",
       "2      14     1             1  \n",
       "3      15    12             0  \n",
       "4      11     7             1  \n",
       "..    ...   ...           ...  \n",
       "396    13     4             1  \n",
       "397    11    10             1  \n",
       "398     9     1             1  \n",
       "399    18    10             1  \n",
       "400    19     4             1  \n",
       "\n",
       "[401 rows x 10 columns]"
      ]
     },
     "execution_count": 39,
     "metadata": {},
     "output_type": "execute_result"
    }
   ],
   "source": [
    "data_test"
   ]
  },
  {
   "cell_type": "code",
   "execution_count": 40,
   "id": "cf066ca9",
   "metadata": {
    "scrolled": true
   },
   "outputs": [
    {
     "data": {
      "text/plain": [
       "(1599, 11)"
      ]
     },
     "execution_count": 40,
     "metadata": {},
     "output_type": "execute_result"
    }
   ],
   "source": [
    "data_train.shape"
   ]
  },
  {
   "cell_type": "code",
   "execution_count": 41,
   "id": "4e872e7f",
   "metadata": {
    "scrolled": true
   },
   "outputs": [
    {
     "data": {
      "text/plain": [
       "(401, 10)"
      ]
     },
     "execution_count": 41,
     "metadata": {},
     "output_type": "execute_result"
    }
   ],
   "source": [
    "data_test.shape"
   ]
  },
  {
   "cell_type": "code",
   "execution_count": 42,
   "id": "375fcf49",
   "metadata": {
    "scrolled": true
   },
   "outputs": [
    {
     "name": "stdout",
     "output_type": "stream",
     "text": [
      "<class 'pandas.core.frame.DataFrame'>\n",
      "RangeIndex: 1599 entries, 0 to 1598\n",
      "Data columns (total 11 columns):\n",
      " #   Column         Non-Null Count  Dtype \n",
      "---  ------         --------------  ----- \n",
      " 0   Brand_Name     1599 non-null   object\n",
      " 1   battery_power  1599 non-null   int64 \n",
      " 2   int_memory     1599 non-null   int64 \n",
      " 3   mobile_wt      1599 non-null   int64 \n",
      " 4   n_cores        1599 non-null   int64 \n",
      " 5   pc             1599 non-null   int64 \n",
      " 6   ram            1599 non-null   int64 \n",
      " 7   sc_h           1599 non-null   int64 \n",
      " 8   sc_w           1599 non-null   int64 \n",
      " 9   touch_screen   1599 non-null   int64 \n",
      " 10  price_range    1599 non-null   int64 \n",
      "dtypes: int64(10), object(1)\n",
      "memory usage: 137.5+ KB\n"
     ]
    }
   ],
   "source": [
    "data_train.info()"
   ]
  },
  {
   "cell_type": "code",
   "execution_count": 43,
   "id": "78183d83",
   "metadata": {
    "scrolled": true
   },
   "outputs": [
    {
     "name": "stdout",
     "output_type": "stream",
     "text": [
      "<class 'pandas.core.frame.DataFrame'>\n",
      "RangeIndex: 401 entries, 0 to 400\n",
      "Data columns (total 10 columns):\n",
      " #   Column         Non-Null Count  Dtype \n",
      "---  ------         --------------  ----- \n",
      " 0   Brand_Name     401 non-null    object\n",
      " 1   battery_power  401 non-null    int64 \n",
      " 2   int_memory     401 non-null    int64 \n",
      " 3   mobile_wt      401 non-null    int64 \n",
      " 4   n_cores        401 non-null    int64 \n",
      " 5   pc             401 non-null    int64 \n",
      " 6   ram            401 non-null    int64 \n",
      " 7   sc_h           401 non-null    int64 \n",
      " 8   sc_w           401 non-null    int64 \n",
      " 9   touch_screen   401 non-null    int64 \n",
      "dtypes: int64(9), object(1)\n",
      "memory usage: 31.5+ KB\n"
     ]
    }
   ],
   "source": [
    "\n",
    "\n",
    "data_test.info()"
   ]
  },
  {
   "cell_type": "code",
   "execution_count": 44,
   "id": "0a188860",
   "metadata": {
    "scrolled": true
   },
   "outputs": [
    {
     "data": {
      "text/plain": [
       "Brand_Name       0\n",
       "battery_power    0\n",
       "int_memory       0\n",
       "mobile_wt        0\n",
       "n_cores          0\n",
       "pc               0\n",
       "ram              0\n",
       "sc_h             0\n",
       "sc_w             0\n",
       "touch_screen     0\n",
       "price_range      0\n",
       "dtype: int64"
      ]
     },
     "execution_count": 44,
     "metadata": {},
     "output_type": "execute_result"
    }
   ],
   "source": [
    "\n",
    "\n",
    "\n",
    "\n",
    "data_train.isnull().sum()"
   ]
  },
  {
   "cell_type": "code",
   "execution_count": 45,
   "id": "2f828cf1",
   "metadata": {
    "scrolled": true
   },
   "outputs": [
    {
     "data": {
      "text/plain": [
       "Brand_Name       0\n",
       "battery_power    0\n",
       "int_memory       0\n",
       "mobile_wt        0\n",
       "n_cores          0\n",
       "pc               0\n",
       "ram              0\n",
       "sc_h             0\n",
       "sc_w             0\n",
       "touch_screen     0\n",
       "dtype: int64"
      ]
     },
     "execution_count": 45,
     "metadata": {},
     "output_type": "execute_result"
    }
   ],
   "source": [
    "data_test.isnull().sum()"
   ]
  },
  {
   "cell_type": "code",
   "execution_count": 46,
   "id": "a97f9469",
   "metadata": {
    "scrolled": true
   },
   "outputs": [
    {
     "data": {
      "text/html": [
       "<div>\n",
       "<style scoped>\n",
       "    .dataframe tbody tr th:only-of-type {\n",
       "        vertical-align: middle;\n",
       "    }\n",
       "\n",
       "    .dataframe tbody tr th {\n",
       "        vertical-align: top;\n",
       "    }\n",
       "\n",
       "    .dataframe thead th {\n",
       "        text-align: right;\n",
       "    }\n",
       "</style>\n",
       "<table border=\"1\" class=\"dataframe\">\n",
       "  <thead>\n",
       "    <tr style=\"text-align: right;\">\n",
       "      <th></th>\n",
       "      <th>battery_power</th>\n",
       "      <th>int_memory</th>\n",
       "      <th>mobile_wt</th>\n",
       "      <th>n_cores</th>\n",
       "      <th>pc</th>\n",
       "      <th>ram</th>\n",
       "      <th>sc_h</th>\n",
       "      <th>sc_w</th>\n",
       "      <th>touch_screen</th>\n",
       "      <th>price_range</th>\n",
       "    </tr>\n",
       "  </thead>\n",
       "  <tbody>\n",
       "    <tr>\n",
       "      <th>count</th>\n",
       "      <td>1599.000000</td>\n",
       "      <td>1599.000000</td>\n",
       "      <td>1599.000000</td>\n",
       "      <td>1599.000000</td>\n",
       "      <td>1599.000000</td>\n",
       "      <td>1599.000000</td>\n",
       "      <td>1599.000000</td>\n",
       "      <td>1599.000000</td>\n",
       "      <td>1599.000000</td>\n",
       "      <td>1599.000000</td>\n",
       "    </tr>\n",
       "    <tr>\n",
       "      <th>mean</th>\n",
       "      <td>1242.781113</td>\n",
       "      <td>32.355222</td>\n",
       "      <td>140.848655</td>\n",
       "      <td>4.514071</td>\n",
       "      <td>9.870544</td>\n",
       "      <td>2125.200750</td>\n",
       "      <td>12.332083</td>\n",
       "      <td>5.787992</td>\n",
       "      <td>0.509068</td>\n",
       "      <td>1.510319</td>\n",
       "    </tr>\n",
       "    <tr>\n",
       "      <th>std</th>\n",
       "      <td>439.266992</td>\n",
       "      <td>18.117580</td>\n",
       "      <td>35.271975</td>\n",
       "      <td>2.302993</td>\n",
       "      <td>6.087606</td>\n",
       "      <td>1092.826508</td>\n",
       "      <td>4.212493</td>\n",
       "      <td>4.357975</td>\n",
       "      <td>0.500074</td>\n",
       "      <td>1.116936</td>\n",
       "    </tr>\n",
       "    <tr>\n",
       "      <th>min</th>\n",
       "      <td>501.000000</td>\n",
       "      <td>2.000000</td>\n",
       "      <td>80.000000</td>\n",
       "      <td>1.000000</td>\n",
       "      <td>0.000000</td>\n",
       "      <td>258.000000</td>\n",
       "      <td>5.000000</td>\n",
       "      <td>0.000000</td>\n",
       "      <td>0.000000</td>\n",
       "      <td>0.000000</td>\n",
       "    </tr>\n",
       "    <tr>\n",
       "      <th>25%</th>\n",
       "      <td>852.000000</td>\n",
       "      <td>16.000000</td>\n",
       "      <td>110.000000</td>\n",
       "      <td>3.000000</td>\n",
       "      <td>4.500000</td>\n",
       "      <td>1202.000000</td>\n",
       "      <td>9.000000</td>\n",
       "      <td>2.000000</td>\n",
       "      <td>0.000000</td>\n",
       "      <td>1.000000</td>\n",
       "    </tr>\n",
       "    <tr>\n",
       "      <th>50%</th>\n",
       "      <td>1237.000000</td>\n",
       "      <td>32.000000</td>\n",
       "      <td>142.000000</td>\n",
       "      <td>4.000000</td>\n",
       "      <td>10.000000</td>\n",
       "      <td>2167.000000</td>\n",
       "      <td>12.000000</td>\n",
       "      <td>5.000000</td>\n",
       "      <td>1.000000</td>\n",
       "      <td>2.000000</td>\n",
       "    </tr>\n",
       "    <tr>\n",
       "      <th>75%</th>\n",
       "      <td>1618.500000</td>\n",
       "      <td>48.000000</td>\n",
       "      <td>171.000000</td>\n",
       "      <td>7.000000</td>\n",
       "      <td>15.000000</td>\n",
       "      <td>3061.000000</td>\n",
       "      <td>16.000000</td>\n",
       "      <td>9.000000</td>\n",
       "      <td>1.000000</td>\n",
       "      <td>3.000000</td>\n",
       "    </tr>\n",
       "    <tr>\n",
       "      <th>max</th>\n",
       "      <td>1998.000000</td>\n",
       "      <td>64.000000</td>\n",
       "      <td>200.000000</td>\n",
       "      <td>8.000000</td>\n",
       "      <td>20.000000</td>\n",
       "      <td>3998.000000</td>\n",
       "      <td>19.000000</td>\n",
       "      <td>18.000000</td>\n",
       "      <td>1.000000</td>\n",
       "      <td>3.000000</td>\n",
       "    </tr>\n",
       "  </tbody>\n",
       "</table>\n",
       "</div>"
      ],
      "text/plain": [
       "       battery_power   int_memory    mobile_wt      n_cores           pc  \\\n",
       "count    1599.000000  1599.000000  1599.000000  1599.000000  1599.000000   \n",
       "mean     1242.781113    32.355222   140.848655     4.514071     9.870544   \n",
       "std       439.266992    18.117580    35.271975     2.302993     6.087606   \n",
       "min       501.000000     2.000000    80.000000     1.000000     0.000000   \n",
       "25%       852.000000    16.000000   110.000000     3.000000     4.500000   \n",
       "50%      1237.000000    32.000000   142.000000     4.000000    10.000000   \n",
       "75%      1618.500000    48.000000   171.000000     7.000000    15.000000   \n",
       "max      1998.000000    64.000000   200.000000     8.000000    20.000000   \n",
       "\n",
       "               ram         sc_h         sc_w  touch_screen  price_range  \n",
       "count  1599.000000  1599.000000  1599.000000   1599.000000  1599.000000  \n",
       "mean   2125.200750    12.332083     5.787992      0.509068     1.510319  \n",
       "std    1092.826508     4.212493     4.357975      0.500074     1.116936  \n",
       "min     258.000000     5.000000     0.000000      0.000000     0.000000  \n",
       "25%    1202.000000     9.000000     2.000000      0.000000     1.000000  \n",
       "50%    2167.000000    12.000000     5.000000      1.000000     2.000000  \n",
       "75%    3061.000000    16.000000     9.000000      1.000000     3.000000  \n",
       "max    3998.000000    19.000000    18.000000      1.000000     3.000000  "
      ]
     },
     "execution_count": 46,
     "metadata": {},
     "output_type": "execute_result"
    }
   ],
   "source": [
    "data_train.describe()"
   ]
  },
  {
   "cell_type": "code",
   "execution_count": 47,
   "id": "68708d55",
   "metadata": {
    "scrolled": true
   },
   "outputs": [
    {
     "data": {
      "image/png": "[encoded data removed]",
      "text/plain": [
       "<Figure size 640x480 with 1 Axes>"
      ]
     },
     "metadata": {},
     "output_type": "display_data"
    }
   ],
   "source": [
    "data_train.plot(x='price_range',y='ram',kind='scatter')\n",
    "plt.show()"
   ]
  },
  {
   "cell_type": "code",
   "execution_count": 48,
   "id": "8d9a1b74",
   "metadata": {
    "scrolled": true
   },
   "outputs": [
    {
     "data": {
      "image/png": "[encoded data removed]",
      "text/plain": [
       "<Figure size 640x480 with 1 Axes>"
      ]
     },
     "metadata": {},
     "output_type": "display_data"
    }
   ],
   "source": [
    "data_train.plot(x='price_range',y='battery_power',kind='scatter')\n",
    "plt.show()"
   ]
  },
  {
   "cell_type": "code",
   "execution_count": 49,
   "id": "59b36517",
   "metadata": {
    "scrolled": true
   },
   "outputs": [
    {
     "data": {
      "image/png": "[encoded data removed]",
      "text/plain": [
       "<Figure size 640x480 with 1 Axes>"
      ]
     },
     "metadata": {},
     "output_type": "display_data"
    }
   ],
   "source": [
    "data_train.plot(x='price_range',y='pc',kind='scatter')\n",
    "plt.show()"
   ]
  },
  {
   "cell_type": "code",
   "execution_count": 50,
   "id": "0d5385aa",
   "metadata": {
    "scrolled": true
   },
   "outputs": [
    {
     "data": {
      "image/png": "[encoded data removed]",
      "text/plain": [
       "<Figure size 640x480 with 1 Axes>"
      ]
     },
     "metadata": {},
     "output_type": "display_data"
    }
   ],
   "source": [
    "data_train.plot(x='price_range',y='n_cores',kind='scatter')\n",
    "plt.show()"
   ]
  },
  {
   "cell_type": "code",
   "execution_count": 51,
   "id": "756997ea",
   "metadata": {
    "scrolled": true
   },
   "outputs": [
    {
     "data": {
      "image/png": "[encoded data removed]",
      "text/plain": [
       "<Figure size 2000x1000 with 1 Axes>"
      ]
     },
     "metadata": {},
     "output_type": "display_data"
    }
   ],
   "source": [
    "data_train.plot(kind='box',figsize=(20,10))\n",
    "plt.show()"
   ]
  },
  {
   "cell_type": "code",
   "execution_count": 52,
   "id": "60471f17",
   "metadata": {
    "scrolled": true
   },
   "outputs": [],
   "source": [
    "#Data Preprocessing\n",
    "\n",
    "from sklearn.preprocessing import StandardScaler\n",
    "std=StandardScaler()"
   ]
  },
  {
   "cell_type": "code",
   "execution_count": null,
   "id": "c9461b02",
   "metadata": {
    "scrolled": true
   },
   "outputs": [],
   "source": []
  },
  {
   "cell_type": "code",
   "execution_count": null,
   "id": "ec88c38d",
   "metadata": {
    "scrolled": true
   },
   "outputs": [],
   "source": []
  },
  {
   "cell_type": "code",
   "execution_count": 53,
   "id": "1ce0b087",
   "metadata": {
    "scrolled": true
   },
   "outputs": [],
   "source": [
    "#Categorical Values convert into Inteager Values\n",
    "\n",
    "data_train['Brand_Name'].replace(['symphony'],[0], inplace=True)\n",
    "data_train['Brand_Name'].replace(['iphone'],[1], inplace=True)\n",
    "data_train['Brand_Name'].replace(['sony'],[2], inplace=True)\n",
    "data_train['Brand_Name'].replace(['samsung'],[3], inplace=True)\n",
    "data_train['Brand_Name'].replace(['maximus'],[4], inplace=True)\n",
    "data_train['Brand_Name'].replace(['oppo'],[5], inplace=True)\n",
    "data_train['Brand_Name'].replace(['nokia'],[6], inplace=True)\n",
    "data_train['Brand_Name'].replace(['google'],[7], inplace=True)\n",
    "data_train['Brand_Name'].replace(['vivo'],[8], inplace=True)\n",
    "data_train['Brand_Name'].replace(['blackberry'],[9], inplace=True)\n",
    "data_train['Brand_Name'].replace(['oneplus'],[10], inplace=True)\n",
    "data_train['Brand_Name'].replace(['xiomi'],[11], inplace=True)\n",
    "data_train['Brand_Name'].replace(['sprint'],[12], inplace=True)\n",
    "data_train['Brand_Name'].replace(['huawei'],[13], inplace=True)"
   ]
  },
  {
   "cell_type": "code",
   "execution_count": 54,
   "id": "8b73a6e2",
   "metadata": {
    "scrolled": true
   },
   "outputs": [
    {
     "data": {
      "text/html": [
       "<div>\n",
       "<style scoped>\n",
       "    .dataframe tbody tr th:only-of-type {\n",
       "        vertical-align: middle;\n",
       "    }\n",
       "\n",
       "    .dataframe tbody tr th {\n",
       "        vertical-align: top;\n",
       "    }\n",
       "\n",
       "    .dataframe thead th {\n",
       "        text-align: right;\n",
       "    }\n",
       "</style>\n",
       "<table border=\"1\" class=\"dataframe\">\n",
       "  <thead>\n",
       "    <tr style=\"text-align: right;\">\n",
       "      <th></th>\n",
       "      <th>Brand_Name</th>\n",
       "      <th>battery_power</th>\n",
       "      <th>int_memory</th>\n",
       "      <th>mobile_wt</th>\n",
       "      <th>n_cores</th>\n",
       "      <th>pc</th>\n",
       "      <th>ram</th>\n",
       "      <th>sc_h</th>\n",
       "      <th>sc_w</th>\n",
       "      <th>touch_screen</th>\n",
       "      <th>price_range</th>\n",
       "    </tr>\n",
       "  </thead>\n",
       "  <tbody>\n",
       "    <tr>\n",
       "      <th>0</th>\n",
       "      <td>0</td>\n",
       "      <td>842</td>\n",
       "      <td>7</td>\n",
       "      <td>188</td>\n",
       "      <td>2</td>\n",
       "      <td>2</td>\n",
       "      <td>2549</td>\n",
       "      <td>9</td>\n",
       "      <td>7</td>\n",
       "      <td>0</td>\n",
       "      <td>1</td>\n",
       "    </tr>\n",
       "    <tr>\n",
       "      <th>1</th>\n",
       "      <td>1</td>\n",
       "      <td>1021</td>\n",
       "      <td>53</td>\n",
       "      <td>136</td>\n",
       "      <td>4</td>\n",
       "      <td>6</td>\n",
       "      <td>2631</td>\n",
       "      <td>17</td>\n",
       "      <td>10</td>\n",
       "      <td>1</td>\n",
       "      <td>3</td>\n",
       "    </tr>\n",
       "    <tr>\n",
       "      <th>2</th>\n",
       "      <td>2</td>\n",
       "      <td>563</td>\n",
       "      <td>41</td>\n",
       "      <td>145</td>\n",
       "      <td>5</td>\n",
       "      <td>6</td>\n",
       "      <td>2603</td>\n",
       "      <td>11</td>\n",
       "      <td>2</td>\n",
       "      <td>1</td>\n",
       "      <td>2</td>\n",
       "    </tr>\n",
       "    <tr>\n",
       "      <th>3</th>\n",
       "      <td>3</td>\n",
       "      <td>615</td>\n",
       "      <td>10</td>\n",
       "      <td>131</td>\n",
       "      <td>6</td>\n",
       "      <td>9</td>\n",
       "      <td>2769</td>\n",
       "      <td>16</td>\n",
       "      <td>8</td>\n",
       "      <td>0</td>\n",
       "      <td>2</td>\n",
       "    </tr>\n",
       "    <tr>\n",
       "      <th>4</th>\n",
       "      <td>2</td>\n",
       "      <td>1821</td>\n",
       "      <td>44</td>\n",
       "      <td>141</td>\n",
       "      <td>2</td>\n",
       "      <td>14</td>\n",
       "      <td>1411</td>\n",
       "      <td>12</td>\n",
       "      <td>8</td>\n",
       "      <td>1</td>\n",
       "      <td>1</td>\n",
       "    </tr>\n",
       "    <tr>\n",
       "      <th>...</th>\n",
       "      <td>...</td>\n",
       "      <td>...</td>\n",
       "      <td>...</td>\n",
       "      <td>...</td>\n",
       "      <td>...</td>\n",
       "      <td>...</td>\n",
       "      <td>...</td>\n",
       "      <td>...</td>\n",
       "      <td>...</td>\n",
       "      <td>...</td>\n",
       "      <td>...</td>\n",
       "    </tr>\n",
       "    <tr>\n",
       "      <th>1594</th>\n",
       "      <td>6</td>\n",
       "      <td>586</td>\n",
       "      <td>42</td>\n",
       "      <td>121</td>\n",
       "      <td>7</td>\n",
       "      <td>17</td>\n",
       "      <td>1869</td>\n",
       "      <td>12</td>\n",
       "      <td>2</td>\n",
       "      <td>1</td>\n",
       "      <td>1</td>\n",
       "    </tr>\n",
       "    <tr>\n",
       "      <th>1595</th>\n",
       "      <td>2</td>\n",
       "      <td>1206</td>\n",
       "      <td>30</td>\n",
       "      <td>127</td>\n",
       "      <td>3</td>\n",
       "      <td>13</td>\n",
       "      <td>1825</td>\n",
       "      <td>7</td>\n",
       "      <td>1</td>\n",
       "      <td>0</td>\n",
       "      <td>2</td>\n",
       "    </tr>\n",
       "    <tr>\n",
       "      <th>1596</th>\n",
       "      <td>7</td>\n",
       "      <td>832</td>\n",
       "      <td>5</td>\n",
       "      <td>165</td>\n",
       "      <td>5</td>\n",
       "      <td>2</td>\n",
       "      <td>3946</td>\n",
       "      <td>12</td>\n",
       "      <td>5</td>\n",
       "      <td>1</td>\n",
       "      <td>3</td>\n",
       "    </tr>\n",
       "    <tr>\n",
       "      <th>1597</th>\n",
       "      <td>4</td>\n",
       "      <td>848</td>\n",
       "      <td>8</td>\n",
       "      <td>103</td>\n",
       "      <td>7</td>\n",
       "      <td>3</td>\n",
       "      <td>436</td>\n",
       "      <td>10</td>\n",
       "      <td>6</td>\n",
       "      <td>1</td>\n",
       "      <td>0</td>\n",
       "    </tr>\n",
       "    <tr>\n",
       "      <th>1598</th>\n",
       "      <td>2</td>\n",
       "      <td>1851</td>\n",
       "      <td>53</td>\n",
       "      <td>112</td>\n",
       "      <td>6</td>\n",
       "      <td>2</td>\n",
       "      <td>2678</td>\n",
       "      <td>6</td>\n",
       "      <td>0</td>\n",
       "      <td>0</td>\n",
       "      <td>2</td>\n",
       "    </tr>\n",
       "  </tbody>\n",
       "</table>\n",
       "<p>1599 rows × 11 columns</p>\n",
       "</div>"
      ],
      "text/plain": [
       "      Brand_Name  battery_power  int_memory  mobile_wt  n_cores  pc   ram  \\\n",
       "0              0            842           7        188        2   2  2549   \n",
       "1              1           1021          53        136        4   6  2631   \n",
       "2              2            563          41        145        5   6  2603   \n",
       "3              3            615          10        131        6   9  2769   \n",
       "4              2           1821          44        141        2  14  1411   \n",
       "...          ...            ...         ...        ...      ...  ..   ...   \n",
       "1594           6            586          42        121        7  17  1869   \n",
       "1595           2           1206          30        127        3  13  1825   \n",
       "1596           7            832           5        165        5   2  3946   \n",
       "1597           4            848           8        103        7   3   436   \n",
       "1598           2           1851          53        112        6   2  2678   \n",
       "\n",
       "      sc_h  sc_w  touch_screen  price_range  \n",
       "0        9     7             0            1  \n",
       "1       17    10             1            3  \n",
       "2       11     2             1            2  \n",
       "3       16     8             0            2  \n",
       "4       12     8             1            1  \n",
       "...    ...   ...           ...          ...  \n",
       "1594    12     2             1            1  \n",
       "1595     7     1             0            2  \n",
       "1596    12     5             1            3  \n",
       "1597    10     6             1            0  \n",
       "1598     6     0             0            2  \n",
       "\n",
       "[1599 rows x 11 columns]"
      ]
     },
     "execution_count": 54,
     "metadata": {},
     "output_type": "execute_result"
    }
   ],
   "source": [
    "data_train"
   ]
  },
  {
   "cell_type": "code",
   "execution_count": 55,
   "id": "acb95d49",
   "metadata": {
    "scrolled": true
   },
   "outputs": [
    {
     "data": {
      "text/plain": [
       "count    1599.000000\n",
       "mean        5.644778\n",
       "std         3.760362\n",
       "min         0.000000\n",
       "25%         2.000000\n",
       "50%         5.000000\n",
       "75%         8.000000\n",
       "max        13.000000\n",
       "Name: Brand_Name, dtype: float64"
      ]
     },
     "execution_count": 55,
     "metadata": {},
     "output_type": "execute_result"
    }
   ],
   "source": [
    "data_train['Brand_Name'].describe()"
   ]
  },
  {
   "cell_type": "raw",
   "id": "130419bd",
   "metadata": {},
   "source": []
  },
  {
   "cell_type": "code",
   "execution_count": 56,
   "id": "78db974a",
   "metadata": {
    "scrolled": true
   },
   "outputs": [
    {
     "data": {
      "image/png": "[encoded data removed]",
      "text/plain": [
       "<Figure size 640x480 with 1 Axes>"
      ]
     },
     "metadata": {},
     "output_type": "display_data"
    }
   ],
   "source": [
    "data_train.plot(x='Brand_Name',y='pc',kind='scatter')\n",
    "plt.show()"
   ]
  },
  {
   "cell_type": "code",
   "execution_count": 57,
   "id": "04370ad3",
   "metadata": {
    "scrolled": true
   },
   "outputs": [],
   "source": [
    "data_test['Brand_Name'].replace(['symphony'],[0], inplace=True)\n",
    "data_test['Brand_Name'].replace(['iphone'],[1], inplace=True)\n",
    "data_test['Brand_Name'].replace(['sony'],[2], inplace=True)\n",
    "data_test['Brand_Name'].replace(['samsung'],[3], inplace=True)\n",
    "data_test['Brand_Name'].replace(['maximus'],[4], inplace=True)\n",
    "data_test['Brand_Name'].replace(['oppo'],[5], inplace=True)\n",
    "data_test['Brand_Name'].replace(['nokia'],[6], inplace=True)\n",
    "data_test['Brand_Name'].replace(['google'],[7], inplace=True)\n",
    "data_test['Brand_Name'].replace(['vivo'],[8], inplace=True)\n",
    "data_test['Brand_Name'].replace(['blackberry'],[9], inplace=True)\n",
    "data_test['Brand_Name'].replace(['oneplus'],[10], inplace=True)\n",
    "data_test['Brand_Name'].replace(['xiomi'],[11], inplace=True)\n",
    "data_test['Brand_Name'].replace(['sprint'],[12], inplace=True)\n",
    "data_test['Brand_Name'].replace(['huawei'],[13], inplace=True)"
   ]
  },
  {
   "cell_type": "code",
   "execution_count": 58,
   "id": "11ea96dc",
   "metadata": {
    "scrolled": true
   },
   "outputs": [
    {
     "data": {
      "text/html": [
       "<div>\n",
       "<style scoped>\n",
       "    .dataframe tbody tr th:only-of-type {\n",
       "        vertical-align: middle;\n",
       "    }\n",
       "\n",
       "    .dataframe tbody tr th {\n",
       "        vertical-align: top;\n",
       "    }\n",
       "\n",
       "    .dataframe thead th {\n",
       "        text-align: right;\n",
       "    }\n",
       "</style>\n",
       "<table border=\"1\" class=\"dataframe\">\n",
       "  <thead>\n",
       "    <tr style=\"text-align: right;\">\n",
       "      <th></th>\n",
       "      <th>Brand_Name</th>\n",
       "      <th>battery_power</th>\n",
       "      <th>int_memory</th>\n",
       "      <th>mobile_wt</th>\n",
       "      <th>n_cores</th>\n",
       "      <th>pc</th>\n",
       "      <th>ram</th>\n",
       "      <th>sc_h</th>\n",
       "      <th>sc_w</th>\n",
       "      <th>touch_screen</th>\n",
       "    </tr>\n",
       "  </thead>\n",
       "  <tbody>\n",
       "    <tr>\n",
       "      <th>0</th>\n",
       "      <td>7</td>\n",
       "      <td>1166</td>\n",
       "      <td>59</td>\n",
       "      <td>80</td>\n",
       "      <td>1</td>\n",
       "      <td>11</td>\n",
       "      <td>3887</td>\n",
       "      <td>8</td>\n",
       "      <td>6</td>\n",
       "      <td>0</td>\n",
       "    </tr>\n",
       "    <tr>\n",
       "      <th>1</th>\n",
       "      <td>5</td>\n",
       "      <td>1776</td>\n",
       "      <td>35</td>\n",
       "      <td>172</td>\n",
       "      <td>4</td>\n",
       "      <td>16</td>\n",
       "      <td>1813</td>\n",
       "      <td>16</td>\n",
       "      <td>13</td>\n",
       "      <td>1</td>\n",
       "    </tr>\n",
       "    <tr>\n",
       "      <th>2</th>\n",
       "      <td>4</td>\n",
       "      <td>1254</td>\n",
       "      <td>27</td>\n",
       "      <td>134</td>\n",
       "      <td>2</td>\n",
       "      <td>10</td>\n",
       "      <td>817</td>\n",
       "      <td>14</td>\n",
       "      <td>1</td>\n",
       "      <td>1</td>\n",
       "    </tr>\n",
       "    <tr>\n",
       "      <th>3</th>\n",
       "      <td>1</td>\n",
       "      <td>1494</td>\n",
       "      <td>24</td>\n",
       "      <td>101</td>\n",
       "      <td>1</td>\n",
       "      <td>17</td>\n",
       "      <td>3614</td>\n",
       "      <td>15</td>\n",
       "      <td>12</td>\n",
       "      <td>0</td>\n",
       "    </tr>\n",
       "    <tr>\n",
       "      <th>4</th>\n",
       "      <td>8</td>\n",
       "      <td>984</td>\n",
       "      <td>39</td>\n",
       "      <td>119</td>\n",
       "      <td>8</td>\n",
       "      <td>18</td>\n",
       "      <td>2013</td>\n",
       "      <td>11</td>\n",
       "      <td>7</td>\n",
       "      <td>1</td>\n",
       "    </tr>\n",
       "    <tr>\n",
       "      <th>...</th>\n",
       "      <td>...</td>\n",
       "      <td>...</td>\n",
       "      <td>...</td>\n",
       "      <td>...</td>\n",
       "      <td>...</td>\n",
       "      <td>...</td>\n",
       "      <td>...</td>\n",
       "      <td>...</td>\n",
       "      <td>...</td>\n",
       "      <td>...</td>\n",
       "    </tr>\n",
       "    <tr>\n",
       "      <th>396</th>\n",
       "      <td>12</td>\n",
       "      <td>794</td>\n",
       "      <td>2</td>\n",
       "      <td>106</td>\n",
       "      <td>6</td>\n",
       "      <td>14</td>\n",
       "      <td>668</td>\n",
       "      <td>13</td>\n",
       "      <td>4</td>\n",
       "      <td>1</td>\n",
       "    </tr>\n",
       "    <tr>\n",
       "      <th>397</th>\n",
       "      <td>13</td>\n",
       "      <td>1965</td>\n",
       "      <td>39</td>\n",
       "      <td>187</td>\n",
       "      <td>4</td>\n",
       "      <td>3</td>\n",
       "      <td>2032</td>\n",
       "      <td>11</td>\n",
       "      <td>10</td>\n",
       "      <td>1</td>\n",
       "    </tr>\n",
       "    <tr>\n",
       "      <th>398</th>\n",
       "      <td>1</td>\n",
       "      <td>1911</td>\n",
       "      <td>36</td>\n",
       "      <td>108</td>\n",
       "      <td>8</td>\n",
       "      <td>3</td>\n",
       "      <td>3057</td>\n",
       "      <td>9</td>\n",
       "      <td>1</td>\n",
       "      <td>1</td>\n",
       "    </tr>\n",
       "    <tr>\n",
       "      <th>399</th>\n",
       "      <td>11</td>\n",
       "      <td>1512</td>\n",
       "      <td>46</td>\n",
       "      <td>145</td>\n",
       "      <td>5</td>\n",
       "      <td>5</td>\n",
       "      <td>869</td>\n",
       "      <td>18</td>\n",
       "      <td>10</td>\n",
       "      <td>1</td>\n",
       "    </tr>\n",
       "    <tr>\n",
       "      <th>400</th>\n",
       "      <td>9</td>\n",
       "      <td>510</td>\n",
       "      <td>45</td>\n",
       "      <td>168</td>\n",
       "      <td>6</td>\n",
       "      <td>16</td>\n",
       "      <td>3919</td>\n",
       "      <td>19</td>\n",
       "      <td>4</td>\n",
       "      <td>1</td>\n",
       "    </tr>\n",
       "  </tbody>\n",
       "</table>\n",
       "<p>401 rows × 10 columns</p>\n",
       "</div>"
      ],
      "text/plain": [
       "     Brand_Name  battery_power  int_memory  mobile_wt  n_cores  pc   ram  \\\n",
       "0             7           1166          59         80        1  11  3887   \n",
       "1             5           1776          35        172        4  16  1813   \n",
       "2             4           1254          27        134        2  10   817   \n",
       "3             1           1494          24        101        1  17  3614   \n",
       "4             8            984          39        119        8  18  2013   \n",
       "..          ...            ...         ...        ...      ...  ..   ...   \n",
       "396          12            794           2        106        6  14   668   \n",
       "397          13           1965          39        187        4   3  2032   \n",
       "398           1           1911          36        108        8   3  3057   \n",
       "399          11           1512          46        145        5   5   869   \n",
       "400           9            510          45        168        6  16  3919   \n",
       "\n",
       "     sc_h  sc_w  touch_screen  \n",
       "0       8     6             0  \n",
       "1      16    13             1  \n",
       "2      14     1             1  \n",
       "3      15    12             0  \n",
       "4      11     7             1  \n",
       "..    ...   ...           ...  \n",
       "396    13     4             1  \n",
       "397    11    10             1  \n",
       "398     9     1             1  \n",
       "399    18    10             1  \n",
       "400    19     4             1  \n",
       "\n",
       "[401 rows x 10 columns]"
      ]
     },
     "execution_count": 58,
     "metadata": {},
     "output_type": "execute_result"
    }
   ],
   "source": [
    "data_test"
   ]
  },
  {
   "cell_type": "code",
   "execution_count": 59,
   "id": "44723b26",
   "metadata": {
    "scrolled": true
   },
   "outputs": [
    {
     "data": {
      "text/plain": [
       "array([ 0,  1,  2,  3,  5,  4,  6,  7,  8,  9, 10, 12, 11, 13],\n",
       "      dtype=int64)"
      ]
     },
     "execution_count": 59,
     "metadata": {},
     "output_type": "execute_result"
    }
   ],
   "source": [
    "data_train['Brand_Name'].unique()"
   ]
  },
  {
   "cell_type": "code",
   "execution_count": 60,
   "id": "82b2c058",
   "metadata": {
    "scrolled": true
   },
   "outputs": [],
   "source": [
    "X=data_train.drop('price_range',axis=1)"
   ]
  },
  {
   "cell_type": "code",
   "execution_count": 61,
   "id": "83ccd78f",
   "metadata": {
    "scrolled": true
   },
   "outputs": [],
   "source": [
    "Y=data_train['price_range']"
   ]
  },
  {
   "cell_type": "code",
   "execution_count": 62,
   "id": "759f11fc",
   "metadata": {
    "scrolled": true
   },
   "outputs": [
    {
     "data": {
      "text/html": [
       "<div>\n",
       "<style scoped>\n",
       "    .dataframe tbody tr th:only-of-type {\n",
       "        vertical-align: middle;\n",
       "    }\n",
       "\n",
       "    .dataframe tbody tr th {\n",
       "        vertical-align: top;\n",
       "    }\n",
       "\n",
       "    .dataframe thead th {\n",
       "        text-align: right;\n",
       "    }\n",
       "</style>\n",
       "<table border=\"1\" class=\"dataframe\">\n",
       "  <thead>\n",
       "    <tr style=\"text-align: right;\">\n",
       "      <th></th>\n",
       "      <th>Brand_Name</th>\n",
       "      <th>battery_power</th>\n",
       "      <th>int_memory</th>\n",
       "      <th>mobile_wt</th>\n",
       "      <th>n_cores</th>\n",
       "      <th>pc</th>\n",
       "      <th>ram</th>\n",
       "      <th>sc_h</th>\n",
       "      <th>sc_w</th>\n",
       "      <th>touch_screen</th>\n",
       "    </tr>\n",
       "  </thead>\n",
       "  <tbody>\n",
       "    <tr>\n",
       "      <th>0</th>\n",
       "      <td>0</td>\n",
       "      <td>842</td>\n",
       "      <td>7</td>\n",
       "      <td>188</td>\n",
       "      <td>2</td>\n",
       "      <td>2</td>\n",
       "      <td>2549</td>\n",
       "      <td>9</td>\n",
       "      <td>7</td>\n",
       "      <td>0</td>\n",
       "    </tr>\n",
       "    <tr>\n",
       "      <th>1</th>\n",
       "      <td>1</td>\n",
       "      <td>1021</td>\n",
       "      <td>53</td>\n",
       "      <td>136</td>\n",
       "      <td>4</td>\n",
       "      <td>6</td>\n",
       "      <td>2631</td>\n",
       "      <td>17</td>\n",
       "      <td>10</td>\n",
       "      <td>1</td>\n",
       "    </tr>\n",
       "    <tr>\n",
       "      <th>2</th>\n",
       "      <td>2</td>\n",
       "      <td>563</td>\n",
       "      <td>41</td>\n",
       "      <td>145</td>\n",
       "      <td>5</td>\n",
       "      <td>6</td>\n",
       "      <td>2603</td>\n",
       "      <td>11</td>\n",
       "      <td>2</td>\n",
       "      <td>1</td>\n",
       "    </tr>\n",
       "    <tr>\n",
       "      <th>3</th>\n",
       "      <td>3</td>\n",
       "      <td>615</td>\n",
       "      <td>10</td>\n",
       "      <td>131</td>\n",
       "      <td>6</td>\n",
       "      <td>9</td>\n",
       "      <td>2769</td>\n",
       "      <td>16</td>\n",
       "      <td>8</td>\n",
       "      <td>0</td>\n",
       "    </tr>\n",
       "    <tr>\n",
       "      <th>4</th>\n",
       "      <td>2</td>\n",
       "      <td>1821</td>\n",
       "      <td>44</td>\n",
       "      <td>141</td>\n",
       "      <td>2</td>\n",
       "      <td>14</td>\n",
       "      <td>1411</td>\n",
       "      <td>12</td>\n",
       "      <td>8</td>\n",
       "      <td>1</td>\n",
       "    </tr>\n",
       "    <tr>\n",
       "      <th>...</th>\n",
       "      <td>...</td>\n",
       "      <td>...</td>\n",
       "      <td>...</td>\n",
       "      <td>...</td>\n",
       "      <td>...</td>\n",
       "      <td>...</td>\n",
       "      <td>...</td>\n",
       "      <td>...</td>\n",
       "      <td>...</td>\n",
       "      <td>...</td>\n",
       "    </tr>\n",
       "    <tr>\n",
       "      <th>1594</th>\n",
       "      <td>6</td>\n",
       "      <td>586</td>\n",
       "      <td>42</td>\n",
       "      <td>121</td>\n",
       "      <td>7</td>\n",
       "      <td>17</td>\n",
       "      <td>1869</td>\n",
       "      <td>12</td>\n",
       "      <td>2</td>\n",
       "      <td>1</td>\n",
       "    </tr>\n",
       "    <tr>\n",
       "      <th>1595</th>\n",
       "      <td>2</td>\n",
       "      <td>1206</td>\n",
       "      <td>30</td>\n",
       "      <td>127</td>\n",
       "      <td>3</td>\n",
       "      <td>13</td>\n",
       "      <td>1825</td>\n",
       "      <td>7</td>\n",
       "      <td>1</td>\n",
       "      <td>0</td>\n",
       "    </tr>\n",
       "    <tr>\n",
       "      <th>1596</th>\n",
       "      <td>7</td>\n",
       "      <td>832</td>\n",
       "      <td>5</td>\n",
       "      <td>165</td>\n",
       "      <td>5</td>\n",
       "      <td>2</td>\n",
       "      <td>3946</td>\n",
       "      <td>12</td>\n",
       "      <td>5</td>\n",
       "      <td>1</td>\n",
       "    </tr>\n",
       "    <tr>\n",
       "      <th>1597</th>\n",
       "      <td>4</td>\n",
       "      <td>848</td>\n",
       "      <td>8</td>\n",
       "      <td>103</td>\n",
       "      <td>7</td>\n",
       "      <td>3</td>\n",
       "      <td>436</td>\n",
       "      <td>10</td>\n",
       "      <td>6</td>\n",
       "      <td>1</td>\n",
       "    </tr>\n",
       "    <tr>\n",
       "      <th>1598</th>\n",
       "      <td>2</td>\n",
       "      <td>1851</td>\n",
       "      <td>53</td>\n",
       "      <td>112</td>\n",
       "      <td>6</td>\n",
       "      <td>2</td>\n",
       "      <td>2678</td>\n",
       "      <td>6</td>\n",
       "      <td>0</td>\n",
       "      <td>0</td>\n",
       "    </tr>\n",
       "  </tbody>\n",
       "</table>\n",
       "<p>1599 rows × 10 columns</p>\n",
       "</div>"
      ],
      "text/plain": [
       "      Brand_Name  battery_power  int_memory  mobile_wt  n_cores  pc   ram  \\\n",
       "0              0            842           7        188        2   2  2549   \n",
       "1              1           1021          53        136        4   6  2631   \n",
       "2              2            563          41        145        5   6  2603   \n",
       "3              3            615          10        131        6   9  2769   \n",
       "4              2           1821          44        141        2  14  1411   \n",
       "...          ...            ...         ...        ...      ...  ..   ...   \n",
       "1594           6            586          42        121        7  17  1869   \n",
       "1595           2           1206          30        127        3  13  1825   \n",
       "1596           7            832           5        165        5   2  3946   \n",
       "1597           4            848           8        103        7   3   436   \n",
       "1598           2           1851          53        112        6   2  2678   \n",
       "\n",
       "      sc_h  sc_w  touch_screen  \n",
       "0        9     7             0  \n",
       "1       17    10             1  \n",
       "2       11     2             1  \n",
       "3       16     8             0  \n",
       "4       12     8             1  \n",
       "...    ...   ...           ...  \n",
       "1594    12     2             1  \n",
       "1595     7     1             0  \n",
       "1596    12     5             1  \n",
       "1597    10     6             1  \n",
       "1598     6     0             0  \n",
       "\n",
       "[1599 rows x 10 columns]"
      ]
     },
     "execution_count": 62,
     "metadata": {},
     "output_type": "execute_result"
    }
   ],
   "source": [
    "X"
   ]
  },
  {
   "cell_type": "code",
   "execution_count": 63,
   "id": "cee2907d",
   "metadata": {
    "scrolled": true
   },
   "outputs": [],
   "source": [
    "X_std=std.fit_transform(X)\n",
    "\n",
    "data_test_std=std.transform(data_test)"
   ]
  },
  {
   "cell_type": "code",
   "execution_count": 64,
   "id": "3400ae5e",
   "metadata": {
    "scrolled": true
   },
   "outputs": [
    {
     "data": {
      "text/plain": [
       "array([[-1.50159587, -0.91267157, -1.39991954, ..., -0.79124762,\n",
       "         0.27819955, -1.01830382],\n",
       "       [-1.23558083, -0.50504704,  1.1398452 , ...,  1.1084595 ,\n",
       "         0.96680803,  0.98202519],\n",
       "       [-0.96956578, -1.54801929,  0.47729788, ..., -0.31632084,\n",
       "        -0.86948125,  0.98202519],\n",
       "       ...,\n",
       "       [ 0.36050945, -0.93544389, -1.51034409, ..., -0.07885745,\n",
       "        -0.18087277,  0.98202519],\n",
       "       [-0.43753569, -0.89900818, -1.34470726, ..., -0.55378423,\n",
       "         0.04866339,  0.98202519],\n",
       "       [-0.96956578,  1.3850555 ,  1.1398452 , ..., -1.50363778,\n",
       "        -1.32855357, -1.01830382]])"
      ]
     },
     "execution_count": 64,
     "metadata": {},
     "output_type": "execute_result"
    }
   ],
   "source": [
    "X_std"
   ]
  },
  {
   "cell_type": "code",
   "execution_count": 65,
   "id": "b777cb34",
   "metadata": {
    "scrolled": true
   },
   "outputs": [
    {
     "data": {
      "text/plain": [
       "array([[ 0.36050945, -0.17484841,  1.47111886, ..., -1.028711  ,\n",
       "         0.04866339, -1.01830382],\n",
       "       [-0.17152065,  1.2142631 ,  0.14602421, ...,  0.87099611,\n",
       "         1.65541651,  0.98202519],\n",
       "       [-0.43753569,  0.02554801, -0.295674  , ...,  0.39606933,\n",
       "        -1.09901741,  0.98202519],\n",
       "       ...,\n",
       "       [-1.23558083,  1.52168942,  0.20123649, ..., -0.79124762,\n",
       "        -1.09901741,  0.98202519],\n",
       "       [ 1.42456963,  0.61307386,  0.75335926, ...,  1.34592289,\n",
       "         0.96680803,  0.98202519],\n",
       "       [ 0.89253954, -1.66871259,  0.69814698, ...,  1.58338628,\n",
       "        -0.41040893,  0.98202519]])"
      ]
     },
     "execution_count": 65,
     "metadata": {},
     "output_type": "execute_result"
    }
   ],
   "source": [
    "data_test_std"
   ]
  },
  {
   "cell_type": "raw",
   "id": "53358a93",
   "metadata": {},
   "source": [
    "#Training Model"
   ]
  },
  {
   "cell_type": "markdown",
   "id": "0ba01be9",
   "metadata": {},
   "source": [
    "# 1.Decision Tree"
   ]
  },
  {
   "cell_type": "code",
   "execution_count": 67,
   "id": "5eae4975",
   "metadata": {
    "scrolled": true
   },
   "outputs": [],
   "source": [
    "from sklearn.tree import DecisionTreeClassifier\n",
    "dt=DecisionTreeClassifier()"
   ]
  },
  {
   "cell_type": "code",
   "execution_count": 68,
   "id": "02fc25d2",
   "metadata": {
    "scrolled": true
   },
   "outputs": [
    {
     "data": {
      "text/html": [
       "<style>#sk-container-id-2 {color: black;background-color: white;}#sk-container-id-2 pre{padding: 0;}#sk-container-id-2 div.sk-toggleable {background-color: white;}#sk-container-id-2 label.sk-toggleable__label {cursor: pointer;display: block;width: 100%;margin-bottom: 0;padding: 0.3em;box-sizing: border-box;text-align: center;}#sk-container-id-2 label.sk-toggleable__label-arrow:before {content: \"▸\";float: left;margin-right: 0.25em;color: #696969;}#sk-container-id-2 label.sk-toggleable__label-arrow:hover:before {color: black;}#sk-container-id-2 div.sk-estimator:hover label.sk-toggleable__label-arrow:before {color: black;}#sk-container-id-2 div.sk-toggleable__content {max-height: 0;max-width: 0;overflow: hidden;text-align: left;background-color: #f0f8ff;}#sk-container-id-2 div.sk-toggleable__content pre {margin: 0.2em;color: black;border-radius: 0.25em;background-color: #f0f8ff;}#sk-container-id-2 input.sk-toggleable__control:checked~div.sk-toggleable__content {max-height: 200px;max-width: 100%;overflow: auto;}#sk-container-id-2 input.sk-toggleable__control:checked~label.sk-toggleable__label-arrow:before {content: \"▾\";}#sk-container-id-2 div.sk-estimator input.sk-toggleable__control:checked~label.sk-toggleable__label {background-color: #d4ebff;}#sk-container-id-2 div.sk-label input.sk-toggleable__control:checked~label.sk-toggleable__label {background-color: #d4ebff;}#sk-container-id-2 input.sk-hidden--visually {border: 0;clip: rect(1px 1px 1px 1px);clip: rect(1px, 1px, 1px, 1px);height: 1px;margin: -1px;overflow: hidden;padding: 0;position: absolute;width: 1px;}#sk-container-id-2 div.sk-estimator {font-family: monospace;background-color: #f0f8ff;border: 1px dotted black;border-radius: 0.25em;box-sizing: border-box;margin-bottom: 0.5em;}#sk-container-id-2 div.sk-estimator:hover {background-color: #d4ebff;}#sk-container-id-2 div.sk-parallel-item::after {content: \"\";width: 100%;border-bottom: 1px solid gray;flex-grow: 1;}#sk-container-id-2 div.sk-label:hover label.sk-toggleable__label {background-color: #d4ebff;}#sk-container-id-2 div.sk-serial::before {content: \"\";position: absolute;border-left: 1px solid gray;box-sizing: border-box;top: 0;bottom: 0;left: 50%;z-index: 0;}#sk-container-id-2 div.sk-serial {display: flex;flex-direction: column;align-items: center;background-color: white;padding-right: 0.2em;padding-left: 0.2em;position: relative;}#sk-container-id-2 div.sk-item {position: relative;z-index: 1;}#sk-container-id-2 div.sk-parallel {display: flex;align-items: stretch;justify-content: center;background-color: white;position: relative;}#sk-container-id-2 div.sk-item::before, #sk-container-id-2 div.sk-parallel-item::before {content: \"\";position: absolute;border-left: 1px solid gray;box-sizing: border-box;top: 0;bottom: 0;left: 50%;z-index: -1;}#sk-container-id-2 div.sk-parallel-item {display: flex;flex-direction: column;z-index: 1;position: relative;background-color: white;}#sk-container-id-2 div.sk-parallel-item:first-child::after {align-self: flex-end;width: 50%;}#sk-container-id-2 div.sk-parallel-item:last-child::after {align-self: flex-start;width: 50%;}#sk-container-id-2 div.sk-parallel-item:only-child::after {width: 0;}#sk-container-id-2 div.sk-dashed-wrapped {border: 1px dashed gray;margin: 0 0.4em 0.5em 0.4em;box-sizing: border-box;padding-bottom: 0.4em;background-color: white;}#sk-container-id-2 div.sk-label label {font-family: monospace;font-weight: bold;display: inline-block;line-height: 1.2em;}#sk-container-id-2 div.sk-label-container {text-align: center;}#sk-container-id-2 div.sk-container {/* jupyter's `normalize.less` sets `[hidden] { display: none; }` but bootstrap.min.css set `[hidden] { display: none !important; }` so we also need the `!important` here to be able to override the default hidden behavior on the sphinx rendered scikit-learn.org. See: https://github.com/scikit-learn/scikit-learn/issues/21755 */display: inline-block !important;position: relative;}#sk-container-id-2 div.sk-text-repr-fallback {display: none;}</style><div id=\"sk-container-id-2\" class=\"sk-top-container\"><div class=\"sk-text-repr-fallback\"><pre>DecisionTreeClassifier()</pre><b>In a Jupyter environment, please rerun this cell to show the HTML representation or trust the notebook. <br />On GitHub, the HTML representation is unable to render, please try loading this page with nbviewer.org.</b></div><div class=\"sk-container\" hidden><div class=\"sk-item\"><div class=\"sk-estimator sk-toggleable\"><input class=\"sk-toggleable__control sk-hidden--visually\" id=\"sk-estimator-id-2\" type=\"checkbox\" checked><label for=\"sk-estimator-id-2\" class=\"sk-toggleable__label sk-toggleable__label-arrow\">DecisionTreeClassifier</label><div class=\"sk-toggleable__content\"><pre>DecisionTreeClassifier()</pre></div></div></div></div></div>"
      ],
      "text/plain": [
       "DecisionTreeClassifier()"
      ]
     },
     "execution_count": 68,
     "metadata": {},
     "output_type": "execute_result"
    }
   ],
   "source": [
    "dt.fit(X_std,Y)"
   ]
  },
  {
   "cell_type": "code",
   "execution_count": 69,
   "id": "21a64fd0",
   "metadata": {},
   "outputs": [
    {
     "data": {
      "text/plain": [
       "array([3, 1, 1, 3, 1, 0, 2, 1, 2, 1, 2, 3, 2, 3, 2, 3, 3, 3, 3, 2, 2, 2,\n",
       "       3, 1, 1, 1, 0, 0, 3, 2, 1, 0, 3, 3, 1, 0, 3, 2, 1, 2, 3, 2, 2, 3,\n",
       "       1, 2, 1, 1, 0, 2, 1, 0, 1, 0, 3, 0, 3, 1, 1, 3, 3, 2, 1, 1, 3, 2,\n",
       "       1, 3, 1, 1, 2, 3, 0, 1, 1, 3, 2, 1, 2, 2, 3, 2, 2, 1, 1, 3, 3, 3,\n",
       "       0, 3, 2, 3, 1, 3, 2, 1, 0, 3, 3, 0, 0, 0, 2, 2, 0, 2, 0, 1, 1, 3,\n",
       "       3, 0, 1, 2, 0, 2, 0, 2, 2, 2, 0, 2, 0, 2, 0, 2, 1, 2, 3, 1, 3, 0,\n",
       "       0, 2, 2, 3, 3, 1, 2, 1, 1, 3, 0, 0, 2, 1, 0, 1, 2, 1, 3, 0, 1, 3,\n",
       "       0, 3, 3, 2, 2, 0, 2, 1, 1, 0, 2, 2, 2, 0, 2, 3, 0, 3, 0, 2, 1, 2,\n",
       "       0, 2, 1, 2, 3, 0, 3, 2, 0, 2, 1, 2, 3, 1, 1, 3, 0, 1, 1, 2, 0, 2,\n",
       "       0, 1, 3, 0, 1, 2, 3, 0, 2, 1, 0, 0, 1, 0, 1, 0, 0, 1, 3, 3, 1, 0,\n",
       "       2, 0, 3, 2, 2, 2, 1, 2, 3, 3, 0, 0, 1, 2, 2, 2, 1, 2, 1, 0, 2, 3,\n",
       "       0, 0, 3, 0, 3, 0, 1, 3, 3, 1, 3, 0, 0, 0, 0, 3, 3, 2, 0, 0, 0, 0,\n",
       "       3, 0, 1, 3, 2, 3, 3, 2, 3, 1, 0, 2, 0, 0, 1, 2, 1, 2, 2, 0, 0, 3,\n",
       "       0, 1, 2, 0, 3, 1, 0, 0, 3, 0, 1, 0, 3, 3, 0, 1, 2, 2, 2, 3, 0, 0,\n",
       "       3, 3, 1, 3, 0, 1, 0, 0, 2, 1, 0, 2, 0, 3, 2, 0, 2, 1, 2, 1, 3, 0,\n",
       "       2, 3, 1, 1, 1, 2, 1, 3, 2, 2, 2, 2, 3, 1, 0, 0, 0, 1, 2, 1, 3, 1,\n",
       "       0, 1, 3, 0, 3, 0, 3, 3, 1, 2, 0, 2, 1, 1, 0, 2, 0, 0, 2, 2, 1, 0,\n",
       "       3, 2, 1, 0, 2, 1, 1, 1, 1, 2, 2, 1, 3, 2, 0, 1, 1, 0, 3, 0, 3, 3,\n",
       "       0, 2, 3, 0, 3], dtype=int64)"
      ]
     },
     "execution_count": 69,
     "metadata": {},
     "output_type": "execute_result"
    }
   ],
   "source": [
    "dt.predict(data_test_std)"
   ]
  },
  {
   "cell_type": "code",
   "execution_count": 70,
   "id": "692b6c31",
   "metadata": {},
   "outputs": [
    {
     "data": {
      "text/html": [
       "<div>\n",
       "<style scoped>\n",
       "    .dataframe tbody tr th:only-of-type {\n",
       "        vertical-align: middle;\n",
       "    }\n",
       "\n",
       "    .dataframe tbody tr th {\n",
       "        vertical-align: top;\n",
       "    }\n",
       "\n",
       "    .dataframe thead th {\n",
       "        text-align: right;\n",
       "    }\n",
       "</style>\n",
       "<table border=\"1\" class=\"dataframe\">\n",
       "  <thead>\n",
       "    <tr style=\"text-align: right;\">\n",
       "      <th></th>\n",
       "      <th>Brand_Name</th>\n",
       "      <th>battery_power</th>\n",
       "      <th>int_memory</th>\n",
       "      <th>mobile_wt</th>\n",
       "      <th>n_cores</th>\n",
       "      <th>pc</th>\n",
       "      <th>ram</th>\n",
       "      <th>sc_h</th>\n",
       "      <th>sc_w</th>\n",
       "      <th>touch_screen</th>\n",
       "    </tr>\n",
       "  </thead>\n",
       "  <tbody>\n",
       "    <tr>\n",
       "      <th>0</th>\n",
       "      <td>7</td>\n",
       "      <td>1166</td>\n",
       "      <td>59</td>\n",
       "      <td>80</td>\n",
       "      <td>1</td>\n",
       "      <td>11</td>\n",
       "      <td>3887</td>\n",
       "      <td>8</td>\n",
       "      <td>6</td>\n",
       "      <td>0</td>\n",
       "    </tr>\n",
       "    <tr>\n",
       "      <th>1</th>\n",
       "      <td>5</td>\n",
       "      <td>1776</td>\n",
       "      <td>35</td>\n",
       "      <td>172</td>\n",
       "      <td>4</td>\n",
       "      <td>16</td>\n",
       "      <td>1813</td>\n",
       "      <td>16</td>\n",
       "      <td>13</td>\n",
       "      <td>1</td>\n",
       "    </tr>\n",
       "    <tr>\n",
       "      <th>2</th>\n",
       "      <td>4</td>\n",
       "      <td>1254</td>\n",
       "      <td>27</td>\n",
       "      <td>134</td>\n",
       "      <td>2</td>\n",
       "      <td>10</td>\n",
       "      <td>817</td>\n",
       "      <td>14</td>\n",
       "      <td>1</td>\n",
       "      <td>1</td>\n",
       "    </tr>\n",
       "    <tr>\n",
       "      <th>3</th>\n",
       "      <td>1</td>\n",
       "      <td>1494</td>\n",
       "      <td>24</td>\n",
       "      <td>101</td>\n",
       "      <td>1</td>\n",
       "      <td>17</td>\n",
       "      <td>3614</td>\n",
       "      <td>15</td>\n",
       "      <td>12</td>\n",
       "      <td>0</td>\n",
       "    </tr>\n",
       "    <tr>\n",
       "      <th>4</th>\n",
       "      <td>8</td>\n",
       "      <td>984</td>\n",
       "      <td>39</td>\n",
       "      <td>119</td>\n",
       "      <td>8</td>\n",
       "      <td>18</td>\n",
       "      <td>2013</td>\n",
       "      <td>11</td>\n",
       "      <td>7</td>\n",
       "      <td>1</td>\n",
       "    </tr>\n",
       "    <tr>\n",
       "      <th>...</th>\n",
       "      <td>...</td>\n",
       "      <td>...</td>\n",
       "      <td>...</td>\n",
       "      <td>...</td>\n",
       "      <td>...</td>\n",
       "      <td>...</td>\n",
       "      <td>...</td>\n",
       "      <td>...</td>\n",
       "      <td>...</td>\n",
       "      <td>...</td>\n",
       "    </tr>\n",
       "    <tr>\n",
       "      <th>396</th>\n",
       "      <td>12</td>\n",
       "      <td>794</td>\n",
       "      <td>2</td>\n",
       "      <td>106</td>\n",
       "      <td>6</td>\n",
       "      <td>14</td>\n",
       "      <td>668</td>\n",
       "      <td>13</td>\n",
       "      <td>4</td>\n",
       "      <td>1</td>\n",
       "    </tr>\n",
       "    <tr>\n",
       "      <th>397</th>\n",
       "      <td>13</td>\n",
       "      <td>1965</td>\n",
       "      <td>39</td>\n",
       "      <td>187</td>\n",
       "      <td>4</td>\n",
       "      <td>3</td>\n",
       "      <td>2032</td>\n",
       "      <td>11</td>\n",
       "      <td>10</td>\n",
       "      <td>1</td>\n",
       "    </tr>\n",
       "    <tr>\n",
       "      <th>398</th>\n",
       "      <td>1</td>\n",
       "      <td>1911</td>\n",
       "      <td>36</td>\n",
       "      <td>108</td>\n",
       "      <td>8</td>\n",
       "      <td>3</td>\n",
       "      <td>3057</td>\n",
       "      <td>9</td>\n",
       "      <td>1</td>\n",
       "      <td>1</td>\n",
       "    </tr>\n",
       "    <tr>\n",
       "      <th>399</th>\n",
       "      <td>11</td>\n",
       "      <td>1512</td>\n",
       "      <td>46</td>\n",
       "      <td>145</td>\n",
       "      <td>5</td>\n",
       "      <td>5</td>\n",
       "      <td>869</td>\n",
       "      <td>18</td>\n",
       "      <td>10</td>\n",
       "      <td>1</td>\n",
       "    </tr>\n",
       "    <tr>\n",
       "      <th>400</th>\n",
       "      <td>9</td>\n",
       "      <td>510</td>\n",
       "      <td>45</td>\n",
       "      <td>168</td>\n",
       "      <td>6</td>\n",
       "      <td>16</td>\n",
       "      <td>3919</td>\n",
       "      <td>19</td>\n",
       "      <td>4</td>\n",
       "      <td>1</td>\n",
       "    </tr>\n",
       "  </tbody>\n",
       "</table>\n",
       "<p>401 rows × 10 columns</p>\n",
       "</div>"
      ],
      "text/plain": [
       "     Brand_Name  battery_power  int_memory  mobile_wt  n_cores  pc   ram  \\\n",
       "0             7           1166          59         80        1  11  3887   \n",
       "1             5           1776          35        172        4  16  1813   \n",
       "2             4           1254          27        134        2  10   817   \n",
       "3             1           1494          24        101        1  17  3614   \n",
       "4             8            984          39        119        8  18  2013   \n",
       "..          ...            ...         ...        ...      ...  ..   ...   \n",
       "396          12            794           2        106        6  14   668   \n",
       "397          13           1965          39        187        4   3  2032   \n",
       "398           1           1911          36        108        8   3  3057   \n",
       "399          11           1512          46        145        5   5   869   \n",
       "400           9            510          45        168        6  16  3919   \n",
       "\n",
       "     sc_h  sc_w  touch_screen  \n",
       "0       8     6             0  \n",
       "1      16    13             1  \n",
       "2      14     1             1  \n",
       "3      15    12             0  \n",
       "4      11     7             1  \n",
       "..    ...   ...           ...  \n",
       "396    13     4             1  \n",
       "397    11    10             1  \n",
       "398     9     1             1  \n",
       "399    18    10             1  \n",
       "400    19     4             1  \n",
       "\n",
       "[401 rows x 10 columns]"
      ]
     },
     "execution_count": 70,
     "metadata": {},
     "output_type": "execute_result"
    }
   ],
   "source": [
    "data_test"
   ]
  },
  {
   "cell_type": "markdown",
   "id": "583432b1",
   "metadata": {},
   "source": [
    "# 2.KNN"
   ]
  },
  {
   "cell_type": "code",
   "execution_count": 73,
   "id": "3862a035",
   "metadata": {},
   "outputs": [],
   "source": [
    "from sklearn.neighbors import KNeighborsClassifier\n",
    "knn=KNeighborsClassifier()"
   ]
  },
  {
   "cell_type": "code",
   "execution_count": 74,
   "id": "2044d67f",
   "metadata": {},
   "outputs": [
    {
     "data": {
      "text/html": [
       "<style>#sk-container-id-3 {color: black;background-color: white;}#sk-container-id-3 pre{padding: 0;}#sk-container-id-3 div.sk-toggleable {background-color: white;}#sk-container-id-3 label.sk-toggleable__label {cursor: pointer;display: block;width: 100%;margin-bottom: 0;padding: 0.3em;box-sizing: border-box;text-align: center;}#sk-container-id-3 label.sk-toggleable__label-arrow:before {content: \"▸\";float: left;margin-right: 0.25em;color: #696969;}#sk-container-id-3 label.sk-toggleable__label-arrow:hover:before {color: black;}#sk-container-id-3 div.sk-estimator:hover label.sk-toggleable__label-arrow:before {color: black;}#sk-container-id-3 div.sk-toggleable__content {max-height: 0;max-width: 0;overflow: hidden;text-align: left;background-color: #f0f8ff;}#sk-container-id-3 div.sk-toggleable__content pre {margin: 0.2em;color: black;border-radius: 0.25em;background-color: #f0f8ff;}#sk-container-id-3 input.sk-toggleable__control:checked~div.sk-toggleable__content {max-height: 200px;max-width: 100%;overflow: auto;}#sk-container-id-3 input.sk-toggleable__control:checked~label.sk-toggleable__label-arrow:before {content: \"▾\";}#sk-container-id-3 div.sk-estimator input.sk-toggleable__control:checked~label.sk-toggleable__label {background-color: #d4ebff;}#sk-container-id-3 div.sk-label input.sk-toggleable__control:checked~label.sk-toggleable__label {background-color: #d4ebff;}#sk-container-id-3 input.sk-hidden--visually {border: 0;clip: rect(1px 1px 1px 1px);clip: rect(1px, 1px, 1px, 1px);height: 1px;margin: -1px;overflow: hidden;padding: 0;position: absolute;width: 1px;}#sk-container-id-3 div.sk-estimator {font-family: monospace;background-color: #f0f8ff;border: 1px dotted black;border-radius: 0.25em;box-sizing: border-box;margin-bottom: 0.5em;}#sk-container-id-3 div.sk-estimator:hover {background-color: #d4ebff;}#sk-container-id-3 div.sk-parallel-item::after {content: \"\";width: 100%;border-bottom: 1px solid gray;flex-grow: 1;}#sk-container-id-3 div.sk-label:hover label.sk-toggleable__label {background-color: #d4ebff;}#sk-container-id-3 div.sk-serial::before {content: \"\";position: absolute;border-left: 1px solid gray;box-sizing: border-box;top: 0;bottom: 0;left: 50%;z-index: 0;}#sk-container-id-3 div.sk-serial {display: flex;flex-direction: column;align-items: center;background-color: white;padding-right: 0.2em;padding-left: 0.2em;position: relative;}#sk-container-id-3 div.sk-item {position: relative;z-index: 1;}#sk-container-id-3 div.sk-parallel {display: flex;align-items: stretch;justify-content: center;background-color: white;position: relative;}#sk-container-id-3 div.sk-item::before, #sk-container-id-3 div.sk-parallel-item::before {content: \"\";position: absolute;border-left: 1px solid gray;box-sizing: border-box;top: 0;bottom: 0;left: 50%;z-index: -1;}#sk-container-id-3 div.sk-parallel-item {display: flex;flex-direction: column;z-index: 1;position: relative;background-color: white;}#sk-container-id-3 div.sk-parallel-item:first-child::after {align-self: flex-end;width: 50%;}#sk-container-id-3 div.sk-parallel-item:last-child::after {align-self: flex-start;width: 50%;}#sk-container-id-3 div.sk-parallel-item:only-child::after {width: 0;}#sk-container-id-3 div.sk-dashed-wrapped {border: 1px dashed gray;margin: 0 0.4em 0.5em 0.4em;box-sizing: border-box;padding-bottom: 0.4em;background-color: white;}#sk-container-id-3 div.sk-label label {font-family: monospace;font-weight: bold;display: inline-block;line-height: 1.2em;}#sk-container-id-3 div.sk-label-container {text-align: center;}#sk-container-id-3 div.sk-container {/* jupyter's `normalize.less` sets `[hidden] { display: none; }` but bootstrap.min.css set `[hidden] { display: none !important; }` so we also need the `!important` here to be able to override the default hidden behavior on the sphinx rendered scikit-learn.org. See: https://github.com/scikit-learn/scikit-learn/issues/21755 */display: inline-block !important;position: relative;}#sk-container-id-3 div.sk-text-repr-fallback {display: none;}</style><div id=\"sk-container-id-3\" class=\"sk-top-container\"><div class=\"sk-text-repr-fallback\"><pre>KNeighborsClassifier()</pre><b>In a Jupyter environment, please rerun this cell to show the HTML representation or trust the notebook. <br />On GitHub, the HTML representation is unable to render, please try loading this page with nbviewer.org.</b></div><div class=\"sk-container\" hidden><div class=\"sk-item\"><div class=\"sk-estimator sk-toggleable\"><input class=\"sk-toggleable__control sk-hidden--visually\" id=\"sk-estimator-id-3\" type=\"checkbox\" checked><label for=\"sk-estimator-id-3\" class=\"sk-toggleable__label sk-toggleable__label-arrow\">KNeighborsClassifier</label><div class=\"sk-toggleable__content\"><pre>KNeighborsClassifier()</pre></div></div></div></div></div>"
      ],
      "text/plain": [
       "KNeighborsClassifier()"
      ]
     },
     "execution_count": 74,
     "metadata": {},
     "output_type": "execute_result"
    }
   ],
   "source": [
    "knn.fit(X_std,Y)"
   ]
  },
  {
   "cell_type": "code",
   "execution_count": 75,
   "id": "10db9c19",
   "metadata": {},
   "outputs": [
    {
     "data": {
      "text/html": [
       "<style>#sk-container-id-4 {color: black;background-color: white;}#sk-container-id-4 pre{padding: 0;}#sk-container-id-4 div.sk-toggleable {background-color: white;}#sk-container-id-4 label.sk-toggleable__label {cursor: pointer;display: block;width: 100%;margin-bottom: 0;padding: 0.3em;box-sizing: border-box;text-align: center;}#sk-container-id-4 label.sk-toggleable__label-arrow:before {content: \"▸\";float: left;margin-right: 0.25em;color: #696969;}#sk-container-id-4 label.sk-toggleable__label-arrow:hover:before {color: black;}#sk-container-id-4 div.sk-estimator:hover label.sk-toggleable__label-arrow:before {color: black;}#sk-container-id-4 div.sk-toggleable__content {max-height: 0;max-width: 0;overflow: hidden;text-align: left;background-color: #f0f8ff;}#sk-container-id-4 div.sk-toggleable__content pre {margin: 0.2em;color: black;border-radius: 0.25em;background-color: #f0f8ff;}#sk-container-id-4 input.sk-toggleable__control:checked~div.sk-toggleable__content {max-height: 200px;max-width: 100%;overflow: auto;}#sk-container-id-4 input.sk-toggleable__control:checked~label.sk-toggleable__label-arrow:before {content: \"▾\";}#sk-container-id-4 div.sk-estimator input.sk-toggleable__control:checked~label.sk-toggleable__label {background-color: #d4ebff;}#sk-container-id-4 div.sk-label input.sk-toggleable__control:checked~label.sk-toggleable__label {background-color: #d4ebff;}#sk-container-id-4 input.sk-hidden--visually {border: 0;clip: rect(1px 1px 1px 1px);clip: rect(1px, 1px, 1px, 1px);height: 1px;margin: -1px;overflow: hidden;padding: 0;position: absolute;width: 1px;}#sk-container-id-4 div.sk-estimator {font-family: monospace;background-color: #f0f8ff;border: 1px dotted black;border-radius: 0.25em;box-sizing: border-box;margin-bottom: 0.5em;}#sk-container-id-4 div.sk-estimator:hover {background-color: #d4ebff;}#sk-container-id-4 div.sk-parallel-item::after {content: \"\";width: 100%;border-bottom: 1px solid gray;flex-grow: 1;}#sk-container-id-4 div.sk-label:hover label.sk-toggleable__label {background-color: #d4ebff;}#sk-container-id-4 div.sk-serial::before {content: \"\";position: absolute;border-left: 1px solid gray;box-sizing: border-box;top: 0;bottom: 0;left: 50%;z-index: 0;}#sk-container-id-4 div.sk-serial {display: flex;flex-direction: column;align-items: center;background-color: white;padding-right: 0.2em;padding-left: 0.2em;position: relative;}#sk-container-id-4 div.sk-item {position: relative;z-index: 1;}#sk-container-id-4 div.sk-parallel {display: flex;align-items: stretch;justify-content: center;background-color: white;position: relative;}#sk-container-id-4 div.sk-item::before, #sk-container-id-4 div.sk-parallel-item::before {content: \"\";position: absolute;border-left: 1px solid gray;box-sizing: border-box;top: 0;bottom: 0;left: 50%;z-index: -1;}#sk-container-id-4 div.sk-parallel-item {display: flex;flex-direction: column;z-index: 1;position: relative;background-color: white;}#sk-container-id-4 div.sk-parallel-item:first-child::after {align-self: flex-end;width: 50%;}#sk-container-id-4 div.sk-parallel-item:last-child::after {align-self: flex-start;width: 50%;}#sk-container-id-4 div.sk-parallel-item:only-child::after {width: 0;}#sk-container-id-4 div.sk-dashed-wrapped {border: 1px dashed gray;margin: 0 0.4em 0.5em 0.4em;box-sizing: border-box;padding-bottom: 0.4em;background-color: white;}#sk-container-id-4 div.sk-label label {font-family: monospace;font-weight: bold;display: inline-block;line-height: 1.2em;}#sk-container-id-4 div.sk-label-container {text-align: center;}#sk-container-id-4 div.sk-container {/* jupyter's `normalize.less` sets `[hidden] { display: none; }` but bootstrap.min.css set `[hidden] { display: none !important; }` so we also need the `!important` here to be able to override the default hidden behavior on the sphinx rendered scikit-learn.org. See: https://github.com/scikit-learn/scikit-learn/issues/21755 */display: inline-block !important;position: relative;}#sk-container-id-4 div.sk-text-repr-fallback {display: none;}</style><div id=\"sk-container-id-4\" class=\"sk-top-container\"><div class=\"sk-text-repr-fallback\"><pre>KNeighborsClassifier()</pre><b>In a Jupyter environment, please rerun this cell to show the HTML representation or trust the notebook. <br />On GitHub, the HTML representation is unable to render, please try loading this page with nbviewer.org.</b></div><div class=\"sk-container\" hidden><div class=\"sk-item\"><div class=\"sk-estimator sk-toggleable\"><input class=\"sk-toggleable__control sk-hidden--visually\" id=\"sk-estimator-id-4\" type=\"checkbox\" checked><label for=\"sk-estimator-id-4\" class=\"sk-toggleable__label sk-toggleable__label-arrow\">KNeighborsClassifier</label><div class=\"sk-toggleable__content\"><pre>KNeighborsClassifier()</pre></div></div></div></div></div>"
      ],
      "text/plain": [
       "KNeighborsClassifier()"
      ]
     },
     "execution_count": 75,
     "metadata": {},
     "output_type": "execute_result"
    }
   ],
   "source": [
    "KNeighborsClassifier()"
   ]
  },
  {
   "cell_type": "code",
   "execution_count": 76,
   "id": "21801af8",
   "metadata": {},
   "outputs": [
    {
     "data": {
      "text/plain": [
       "array([2, 1, 1, 3, 1, 0, 2, 1, 1, 1, 3, 3, 3, 3, 3, 3, 3, 2, 2, 2, 0, 2,\n",
       "       2, 1, 0, 1, 0, 0, 2, 2, 1, 0, 2, 3, 1, 0, 3, 0, 1, 2, 3, 2, 2, 3,\n",
       "       2, 1, 1, 1, 0, 2, 1, 1, 1, 0, 3, 1, 2, 2, 2, 3, 3, 2, 0, 1, 2, 2,\n",
       "       1, 2, 1, 0, 1, 3, 0, 1, 2, 3, 2, 1, 1, 2, 2, 0, 2, 1, 0, 3, 2, 3,\n",
       "       0, 3, 2, 3, 1, 2, 2, 1, 0, 2, 2, 0, 0, 0, 2, 3, 0, 1, 1, 1, 1, 2,\n",
       "       2, 0, 1, 2, 1, 2, 0, 2, 1, 0, 0, 1, 0, 2, 0, 2, 1, 2, 3, 0, 3, 0,\n",
       "       0, 1, 2, 3, 2, 1, 2, 1, 1, 3, 0, 0, 3, 2, 0, 1, 2, 1, 3, 0, 1, 3,\n",
       "       0, 2, 3, 1, 3, 0, 2, 1, 1, 0, 2, 3, 1, 0, 2, 3, 0, 3, 0, 2, 1, 1,\n",
       "       0, 2, 1, 2, 1, 1, 2, 2, 0, 1, 1, 1, 3, 0, 0, 1, 1, 0, 1, 2, 0, 2,\n",
       "       0, 1, 2, 0, 1, 2, 3, 1, 1, 1, 0, 0, 0, 0, 0, 0, 0, 1, 3, 3, 1, 0,\n",
       "       0, 0, 3, 2, 1, 3, 1, 3, 3, 3, 0, 1, 1, 2, 2, 2, 0, 2, 2, 0, 2, 3,\n",
       "       0, 0, 3, 0, 3, 0, 0, 1, 2, 1, 3, 0, 0, 0, 0, 3, 2, 3, 0, 0, 0, 1,\n",
       "       3, 0, 1, 3, 1, 3, 3, 2, 2, 0, 0, 2, 0, 0, 1, 1, 1, 2, 2, 0, 0, 2,\n",
       "       1, 1, 2, 0, 3, 1, 0, 0, 2, 1, 1, 1, 3, 3, 1, 1, 1, 2, 2, 3, 1, 1,\n",
       "       3, 2, 1, 2, 0, 1, 1, 0, 2, 1, 0, 2, 0, 2, 1, 0, 1, 1, 0, 1, 2, 0,\n",
       "       1, 2, 1, 1, 1, 2, 1, 2, 2, 2, 2, 2, 3, 1, 0, 1, 0, 0, 2, 1, 2, 1,\n",
       "       0, 1, 3, 1, 3, 0, 3, 2, 0, 2, 0, 2, 2, 1, 0, 2, 0, 1, 2, 2, 1, 1,\n",
       "       2, 1, 1, 0, 2, 1, 1, 1, 1, 3, 3, 1, 2, 1, 0, 1, 1, 0, 2, 0, 3, 3,\n",
       "       0, 2, 3, 0, 3], dtype=int64)"
      ]
     },
     "execution_count": 76,
     "metadata": {},
     "output_type": "execute_result"
    }
   ],
   "source": [
    "knn.predict(data_test_std)"
   ]
  },
  {
   "cell_type": "markdown",
   "id": "5d718f6e",
   "metadata": {},
   "source": [
    "# 3) Logistic Regression"
   ]
  },
  {
   "cell_type": "code",
   "execution_count": 77,
   "id": "369bb721",
   "metadata": {},
   "outputs": [],
   "source": [
    "from sklearn.linear_model import LogisticRegression\n",
    "lr=LogisticRegression()"
   ]
  },
  {
   "cell_type": "code",
   "execution_count": 78,
   "id": "a813075d",
   "metadata": {},
   "outputs": [
    {
     "data": {
      "text/html": [
       "<style>#sk-container-id-5 {color: black;background-color: white;}#sk-container-id-5 pre{padding: 0;}#sk-container-id-5 div.sk-toggleable {background-color: white;}#sk-container-id-5 label.sk-toggleable__label {cursor: pointer;display: block;width: 100%;margin-bottom: 0;padding: 0.3em;box-sizing: border-box;text-align: center;}#sk-container-id-5 label.sk-toggleable__label-arrow:before {content: \"▸\";float: left;margin-right: 0.25em;color: #696969;}#sk-container-id-5 label.sk-toggleable__label-arrow:hover:before {color: black;}#sk-container-id-5 div.sk-estimator:hover label.sk-toggleable__label-arrow:before {color: black;}#sk-container-id-5 div.sk-toggleable__content {max-height: 0;max-width: 0;overflow: hidden;text-align: left;background-color: #f0f8ff;}#sk-container-id-5 div.sk-toggleable__content pre {margin: 0.2em;color: black;border-radius: 0.25em;background-color: #f0f8ff;}#sk-container-id-5 input.sk-toggleable__control:checked~div.sk-toggleable__content {max-height: 200px;max-width: 100%;overflow: auto;}#sk-container-id-5 input.sk-toggleable__control:checked~label.sk-toggleable__label-arrow:before {content: \"▾\";}#sk-container-id-5 div.sk-estimator input.sk-toggleable__control:checked~label.sk-toggleable__label {background-color: #d4ebff;}#sk-container-id-5 div.sk-label input.sk-toggleable__control:checked~label.sk-toggleable__label {background-color: #d4ebff;}#sk-container-id-5 input.sk-hidden--visually {border: 0;clip: rect(1px 1px 1px 1px);clip: rect(1px, 1px, 1px, 1px);height: 1px;margin: -1px;overflow: hidden;padding: 0;position: absolute;width: 1px;}#sk-container-id-5 div.sk-estimator {font-family: monospace;background-color: #f0f8ff;border: 1px dotted black;border-radius: 0.25em;box-sizing: border-box;margin-bottom: 0.5em;}#sk-container-id-5 div.sk-estimator:hover {background-color: #d4ebff;}#sk-container-id-5 div.sk-parallel-item::after {content: \"\";width: 100%;border-bottom: 1px solid gray;flex-grow: 1;}#sk-container-id-5 div.sk-label:hover label.sk-toggleable__label {background-color: #d4ebff;}#sk-container-id-5 div.sk-serial::before {content: \"\";position: absolute;border-left: 1px solid gray;box-sizing: border-box;top: 0;bottom: 0;left: 50%;z-index: 0;}#sk-container-id-5 div.sk-serial {display: flex;flex-direction: column;align-items: center;background-color: white;padding-right: 0.2em;padding-left: 0.2em;position: relative;}#sk-container-id-5 div.sk-item {position: relative;z-index: 1;}#sk-container-id-5 div.sk-parallel {display: flex;align-items: stretch;justify-content: center;background-color: white;position: relative;}#sk-container-id-5 div.sk-item::before, #sk-container-id-5 div.sk-parallel-item::before {content: \"\";position: absolute;border-left: 1px solid gray;box-sizing: border-box;top: 0;bottom: 0;left: 50%;z-index: -1;}#sk-container-id-5 div.sk-parallel-item {display: flex;flex-direction: column;z-index: 1;position: relative;background-color: white;}#sk-container-id-5 div.sk-parallel-item:first-child::after {align-self: flex-end;width: 50%;}#sk-container-id-5 div.sk-parallel-item:last-child::after {align-self: flex-start;width: 50%;}#sk-container-id-5 div.sk-parallel-item:only-child::after {width: 0;}#sk-container-id-5 div.sk-dashed-wrapped {border: 1px dashed gray;margin: 0 0.4em 0.5em 0.4em;box-sizing: border-box;padding-bottom: 0.4em;background-color: white;}#sk-container-id-5 div.sk-label label {font-family: monospace;font-weight: bold;display: inline-block;line-height: 1.2em;}#sk-container-id-5 div.sk-label-container {text-align: center;}#sk-container-id-5 div.sk-container {/* jupyter's `normalize.less` sets `[hidden] { display: none; }` but bootstrap.min.css set `[hidden] { display: none !important; }` so we also need the `!important` here to be able to override the default hidden behavior on the sphinx rendered scikit-learn.org. See: https://github.com/scikit-learn/scikit-learn/issues/21755 */display: inline-block !important;position: relative;}#sk-container-id-5 div.sk-text-repr-fallback {display: none;}</style><div id=\"sk-container-id-5\" class=\"sk-top-container\"><div class=\"sk-text-repr-fallback\"><pre>LogisticRegression()</pre><b>In a Jupyter environment, please rerun this cell to show the HTML representation or trust the notebook. <br />On GitHub, the HTML representation is unable to render, please try loading this page with nbviewer.org.</b></div><div class=\"sk-container\" hidden><div class=\"sk-item\"><div class=\"sk-estimator sk-toggleable\"><input class=\"sk-toggleable__control sk-hidden--visually\" id=\"sk-estimator-id-5\" type=\"checkbox\" checked><label for=\"sk-estimator-id-5\" class=\"sk-toggleable__label sk-toggleable__label-arrow\">LogisticRegression</label><div class=\"sk-toggleable__content\"><pre>LogisticRegression()</pre></div></div></div></div></div>"
      ],
      "text/plain": [
       "LogisticRegression()"
      ]
     },
     "execution_count": 78,
     "metadata": {},
     "output_type": "execute_result"
    }
   ],
   "source": [
    "lr.fit(X_std,Y)"
   ]
  },
  {
   "cell_type": "code",
   "execution_count": 80,
   "id": "9006d206",
   "metadata": {},
   "outputs": [
    {
     "data": {
      "text/plain": [
       "array([3, 2, 0, 3, 1, 0, 2, 2, 2, 1, 2, 3, 2, 3, 2, 3, 3, 3, 2, 2, 1, 2,\n",
       "       3, 1, 1, 1, 0, 0, 3, 2, 1, 0, 2, 3, 1, 0, 3, 1, 1, 2, 3, 2, 2, 3,\n",
       "       1, 2, 1, 1, 0, 3, 1, 0, 1, 0, 3, 0, 3, 1, 2, 3, 2, 2, 1, 1, 3, 1,\n",
       "       1, 2, 1, 1, 2, 3, 0, 1, 1, 3, 2, 1, 2, 2, 3, 1, 1, 1, 1, 3, 3, 3,\n",
       "       0, 3, 1, 3, 1, 3, 2, 1, 1, 2, 3, 0, 0, 0, 2, 2, 0, 2, 0, 1, 1, 3,\n",
       "       3, 0, 1, 2, 1, 3, 0, 2, 2, 2, 0, 2, 0, 2, 0, 2, 1, 2, 3, 0, 3, 0,\n",
       "       0, 2, 2, 3, 3, 1, 2, 1, 1, 3, 1, 0, 3, 1, 0, 1, 1, 1, 3, 0, 1, 3,\n",
       "       0, 3, 3, 3, 2, 0, 2, 1, 2, 0, 2, 3, 1, 0, 2, 3, 0, 3, 1, 3, 0, 2,\n",
       "       0, 2, 1, 2, 3, 0, 3, 2, 0, 2, 2, 1, 3, 1, 1, 2, 1, 1, 1, 3, 0, 1,\n",
       "       0, 1, 3, 0, 1, 3, 3, 0, 1, 0, 0, 0, 1, 0, 1, 0, 0, 1, 3, 3, 1, 0,\n",
       "       2, 0, 3, 1, 2, 2, 1, 2, 3, 3, 0, 1, 1, 2, 2, 2, 1, 1, 1, 0, 2, 3,\n",
       "       0, 0, 3, 0, 3, 0, 0, 2, 3, 1, 3, 0, 0, 0, 0, 3, 3, 2, 0, 0, 0, 0,\n",
       "       3, 0, 2, 3, 1, 3, 2, 3, 3, 1, 0, 2, 1, 0, 1, 1, 1, 2, 2, 0, 0, 3,\n",
       "       0, 1, 2, 0, 3, 2, 0, 0, 3, 0, 2, 0, 3, 3, 1, 1, 2, 2, 2, 3, 0, 1,\n",
       "       3, 3, 1, 2, 0, 1, 0, 0, 2, 1, 0, 2, 0, 3, 2, 0, 2, 2, 2, 1, 3, 0,\n",
       "       2, 3, 1, 1, 1, 2, 1, 3, 2, 2, 2, 2, 3, 0, 0, 1, 0, 1, 2, 1, 3, 1,\n",
       "       0, 1, 3, 1, 2, 0, 3, 2, 1, 2, 0, 2, 2, 1, 0, 2, 0, 0, 2, 2, 1, 0,\n",
       "       3, 1, 2, 0, 2, 1, 2, 1, 1, 2, 3, 1, 3, 1, 0, 1, 2, 0, 3, 0, 3, 3,\n",
       "       0, 2, 3, 0, 3], dtype=int64)"
      ]
     },
     "execution_count": 80,
     "metadata": {},
     "output_type": "execute_result"
    }
   ],
   "source": [
    "lr.predict(data_test_std)"
   ]
  },
  {
   "cell_type": "markdown",
   "id": "600db0ab",
   "metadata": {},
   "source": [
    "# As we predicted on Test Data csv, we are not able to plot accuracy score as we dont have Ground Truth, so we are going to use only Train.csv and gonna split it into train and test"
   ]
  },
  {
   "cell_type": "code",
   "execution_count": null,
   "id": "a350bdb3",
   "metadata": {},
   "outputs": [],
   "source": []
  },
  {
   "cell_type": "code",
   "execution_count": null,
   "id": "16335033",
   "metadata": {},
   "outputs": [],
   "source": []
  },
  {
   "cell_type": "code",
   "execution_count": 82,
   "id": "ca967d1a",
   "metadata": {},
   "outputs": [
    {
     "data": {
      "text/html": [
       "<div>\n",
       "<style scoped>\n",
       "    .dataframe tbody tr th:only-of-type {\n",
       "        vertical-align: middle;\n",
       "    }\n",
       "\n",
       "    .dataframe tbody tr th {\n",
       "        vertical-align: top;\n",
       "    }\n",
       "\n",
       "    .dataframe thead th {\n",
       "        text-align: right;\n",
       "    }\n",
       "</style>\n",
       "<table border=\"1\" class=\"dataframe\">\n",
       "  <thead>\n",
       "    <tr style=\"text-align: right;\">\n",
       "      <th></th>\n",
       "      <th>Brand_Name</th>\n",
       "      <th>battery_power</th>\n",
       "      <th>int_memory</th>\n",
       "      <th>mobile_wt</th>\n",
       "      <th>n_cores</th>\n",
       "      <th>pc</th>\n",
       "      <th>ram</th>\n",
       "      <th>sc_h</th>\n",
       "      <th>sc_w</th>\n",
       "      <th>touch_screen</th>\n",
       "    </tr>\n",
       "  </thead>\n",
       "  <tbody>\n",
       "    <tr>\n",
       "      <th>0</th>\n",
       "      <td>0</td>\n",
       "      <td>842</td>\n",
       "      <td>7</td>\n",
       "      <td>188</td>\n",
       "      <td>2</td>\n",
       "      <td>2</td>\n",
       "      <td>2549</td>\n",
       "      <td>9</td>\n",
       "      <td>7</td>\n",
       "      <td>0</td>\n",
       "    </tr>\n",
       "    <tr>\n",
       "      <th>1</th>\n",
       "      <td>1</td>\n",
       "      <td>1021</td>\n",
       "      <td>53</td>\n",
       "      <td>136</td>\n",
       "      <td>4</td>\n",
       "      <td>6</td>\n",
       "      <td>2631</td>\n",
       "      <td>17</td>\n",
       "      <td>10</td>\n",
       "      <td>1</td>\n",
       "    </tr>\n",
       "    <tr>\n",
       "      <th>2</th>\n",
       "      <td>2</td>\n",
       "      <td>563</td>\n",
       "      <td>41</td>\n",
       "      <td>145</td>\n",
       "      <td>5</td>\n",
       "      <td>6</td>\n",
       "      <td>2603</td>\n",
       "      <td>11</td>\n",
       "      <td>2</td>\n",
       "      <td>1</td>\n",
       "    </tr>\n",
       "    <tr>\n",
       "      <th>3</th>\n",
       "      <td>3</td>\n",
       "      <td>615</td>\n",
       "      <td>10</td>\n",
       "      <td>131</td>\n",
       "      <td>6</td>\n",
       "      <td>9</td>\n",
       "      <td>2769</td>\n",
       "      <td>16</td>\n",
       "      <td>8</td>\n",
       "      <td>0</td>\n",
       "    </tr>\n",
       "    <tr>\n",
       "      <th>4</th>\n",
       "      <td>2</td>\n",
       "      <td>1821</td>\n",
       "      <td>44</td>\n",
       "      <td>141</td>\n",
       "      <td>2</td>\n",
       "      <td>14</td>\n",
       "      <td>1411</td>\n",
       "      <td>12</td>\n",
       "      <td>8</td>\n",
       "      <td>1</td>\n",
       "    </tr>\n",
       "    <tr>\n",
       "      <th>...</th>\n",
       "      <td>...</td>\n",
       "      <td>...</td>\n",
       "      <td>...</td>\n",
       "      <td>...</td>\n",
       "      <td>...</td>\n",
       "      <td>...</td>\n",
       "      <td>...</td>\n",
       "      <td>...</td>\n",
       "      <td>...</td>\n",
       "      <td>...</td>\n",
       "    </tr>\n",
       "    <tr>\n",
       "      <th>1594</th>\n",
       "      <td>6</td>\n",
       "      <td>586</td>\n",
       "      <td>42</td>\n",
       "      <td>121</td>\n",
       "      <td>7</td>\n",
       "      <td>17</td>\n",
       "      <td>1869</td>\n",
       "      <td>12</td>\n",
       "      <td>2</td>\n",
       "      <td>1</td>\n",
       "    </tr>\n",
       "    <tr>\n",
       "      <th>1595</th>\n",
       "      <td>2</td>\n",
       "      <td>1206</td>\n",
       "      <td>30</td>\n",
       "      <td>127</td>\n",
       "      <td>3</td>\n",
       "      <td>13</td>\n",
       "      <td>1825</td>\n",
       "      <td>7</td>\n",
       "      <td>1</td>\n",
       "      <td>0</td>\n",
       "    </tr>\n",
       "    <tr>\n",
       "      <th>1596</th>\n",
       "      <td>7</td>\n",
       "      <td>832</td>\n",
       "      <td>5</td>\n",
       "      <td>165</td>\n",
       "      <td>5</td>\n",
       "      <td>2</td>\n",
       "      <td>3946</td>\n",
       "      <td>12</td>\n",
       "      <td>5</td>\n",
       "      <td>1</td>\n",
       "    </tr>\n",
       "    <tr>\n",
       "      <th>1597</th>\n",
       "      <td>4</td>\n",
       "      <td>848</td>\n",
       "      <td>8</td>\n",
       "      <td>103</td>\n",
       "      <td>7</td>\n",
       "      <td>3</td>\n",
       "      <td>436</td>\n",
       "      <td>10</td>\n",
       "      <td>6</td>\n",
       "      <td>1</td>\n",
       "    </tr>\n",
       "    <tr>\n",
       "      <th>1598</th>\n",
       "      <td>2</td>\n",
       "      <td>1851</td>\n",
       "      <td>53</td>\n",
       "      <td>112</td>\n",
       "      <td>6</td>\n",
       "      <td>2</td>\n",
       "      <td>2678</td>\n",
       "      <td>6</td>\n",
       "      <td>0</td>\n",
       "      <td>0</td>\n",
       "    </tr>\n",
       "  </tbody>\n",
       "</table>\n",
       "<p>1599 rows × 10 columns</p>\n",
       "</div>"
      ],
      "text/plain": [
       "      Brand_Name  battery_power  int_memory  mobile_wt  n_cores  pc   ram  \\\n",
       "0              0            842           7        188        2   2  2549   \n",
       "1              1           1021          53        136        4   6  2631   \n",
       "2              2            563          41        145        5   6  2603   \n",
       "3              3            615          10        131        6   9  2769   \n",
       "4              2           1821          44        141        2  14  1411   \n",
       "...          ...            ...         ...        ...      ...  ..   ...   \n",
       "1594           6            586          42        121        7  17  1869   \n",
       "1595           2           1206          30        127        3  13  1825   \n",
       "1596           7            832           5        165        5   2  3946   \n",
       "1597           4            848           8        103        7   3   436   \n",
       "1598           2           1851          53        112        6   2  2678   \n",
       "\n",
       "      sc_h  sc_w  touch_screen  \n",
       "0        9     7             0  \n",
       "1       17    10             1  \n",
       "2       11     2             1  \n",
       "3       16     8             0  \n",
       "4       12     8             1  \n",
       "...    ...   ...           ...  \n",
       "1594    12     2             1  \n",
       "1595     7     1             0  \n",
       "1596    12     5             1  \n",
       "1597    10     6             1  \n",
       "1598     6     0             0  \n",
       "\n",
       "[1599 rows x 10 columns]"
      ]
     },
     "execution_count": 82,
     "metadata": {},
     "output_type": "execute_result"
    }
   ],
   "source": [
    "X"
   ]
  },
  {
   "cell_type": "code",
   "execution_count": 83,
   "id": "a5f31fba",
   "metadata": {},
   "outputs": [
    {
     "data": {
      "text/plain": [
       "0       1\n",
       "1       3\n",
       "2       2\n",
       "3       2\n",
       "4       1\n",
       "       ..\n",
       "1594    1\n",
       "1595    2\n",
       "1596    3\n",
       "1597    0\n",
       "1598    2\n",
       "Name: price_range, Length: 1599, dtype: int64"
      ]
     },
     "execution_count": 83,
     "metadata": {},
     "output_type": "execute_result"
    }
   ],
   "source": [
    "Y"
   ]
  },
  {
   "cell_type": "code",
   "execution_count": 84,
   "id": "5bff22a4",
   "metadata": {},
   "outputs": [],
   "source": [
    "from sklearn.model_selection import train_test_split"
   ]
  },
  {
   "cell_type": "code",
   "execution_count": 85,
   "id": "966d33a8",
   "metadata": {},
   "outputs": [],
   "source": [
    "X_train,X_test,Y_train,Y_test=train_test_split(X,Y,test_size=0.2,random_state=1)"
   ]
  },
  {
   "cell_type": "code",
   "execution_count": 86,
   "id": "6e661e74",
   "metadata": {},
   "outputs": [
    {
     "data": {
      "text/html": [
       "<div>\n",
       "<style scoped>\n",
       "    .dataframe tbody tr th:only-of-type {\n",
       "        vertical-align: middle;\n",
       "    }\n",
       "\n",
       "    .dataframe tbody tr th {\n",
       "        vertical-align: top;\n",
       "    }\n",
       "\n",
       "    .dataframe thead th {\n",
       "        text-align: right;\n",
       "    }\n",
       "</style>\n",
       "<table border=\"1\" class=\"dataframe\">\n",
       "  <thead>\n",
       "    <tr style=\"text-align: right;\">\n",
       "      <th></th>\n",
       "      <th>Brand_Name</th>\n",
       "      <th>battery_power</th>\n",
       "      <th>int_memory</th>\n",
       "      <th>mobile_wt</th>\n",
       "      <th>n_cores</th>\n",
       "      <th>pc</th>\n",
       "      <th>ram</th>\n",
       "      <th>sc_h</th>\n",
       "      <th>sc_w</th>\n",
       "      <th>touch_screen</th>\n",
       "    </tr>\n",
       "  </thead>\n",
       "  <tbody>\n",
       "    <tr>\n",
       "      <th>701</th>\n",
       "      <td>7</td>\n",
       "      <td>1717</td>\n",
       "      <td>62</td>\n",
       "      <td>130</td>\n",
       "      <td>1</td>\n",
       "      <td>3</td>\n",
       "      <td>3226</td>\n",
       "      <td>6</td>\n",
       "      <td>4</td>\n",
       "      <td>1</td>\n",
       "    </tr>\n",
       "    <tr>\n",
       "      <th>56</th>\n",
       "      <td>0</td>\n",
       "      <td>823</td>\n",
       "      <td>60</td>\n",
       "      <td>148</td>\n",
       "      <td>8</td>\n",
       "      <td>19</td>\n",
       "      <td>905</td>\n",
       "      <td>14</td>\n",
       "      <td>11</td>\n",
       "      <td>1</td>\n",
       "    </tr>\n",
       "    <tr>\n",
       "      <th>142</th>\n",
       "      <td>1</td>\n",
       "      <td>1537</td>\n",
       "      <td>43</td>\n",
       "      <td>137</td>\n",
       "      <td>1</td>\n",
       "      <td>5</td>\n",
       "      <td>3685</td>\n",
       "      <td>18</td>\n",
       "      <td>17</td>\n",
       "      <td>1</td>\n",
       "    </tr>\n",
       "    <tr>\n",
       "      <th>863</th>\n",
       "      <td>11</td>\n",
       "      <td>1425</td>\n",
       "      <td>35</td>\n",
       "      <td>127</td>\n",
       "      <td>8</td>\n",
       "      <td>14</td>\n",
       "      <td>590</td>\n",
       "      <td>13</td>\n",
       "      <td>2</td>\n",
       "      <td>1</td>\n",
       "    </tr>\n",
       "    <tr>\n",
       "      <th>1387</th>\n",
       "      <td>13</td>\n",
       "      <td>1533</td>\n",
       "      <td>17</td>\n",
       "      <td>160</td>\n",
       "      <td>4</td>\n",
       "      <td>20</td>\n",
       "      <td>2520</td>\n",
       "      <td>8</td>\n",
       "      <td>2</td>\n",
       "      <td>0</td>\n",
       "    </tr>\n",
       "    <tr>\n",
       "      <th>...</th>\n",
       "      <td>...</td>\n",
       "      <td>...</td>\n",
       "      <td>...</td>\n",
       "      <td>...</td>\n",
       "      <td>...</td>\n",
       "      <td>...</td>\n",
       "      <td>...</td>\n",
       "      <td>...</td>\n",
       "      <td>...</td>\n",
       "      <td>...</td>\n",
       "    </tr>\n",
       "    <tr>\n",
       "      <th>715</th>\n",
       "      <td>8</td>\n",
       "      <td>817</td>\n",
       "      <td>11</td>\n",
       "      <td>144</td>\n",
       "      <td>3</td>\n",
       "      <td>11</td>\n",
       "      <td>2039</td>\n",
       "      <td>11</td>\n",
       "      <td>6</td>\n",
       "      <td>1</td>\n",
       "    </tr>\n",
       "    <tr>\n",
       "      <th>905</th>\n",
       "      <td>7</td>\n",
       "      <td>989</td>\n",
       "      <td>17</td>\n",
       "      <td>166</td>\n",
       "      <td>3</td>\n",
       "      <td>19</td>\n",
       "      <td>3892</td>\n",
       "      <td>18</td>\n",
       "      <td>7</td>\n",
       "      <td>1</td>\n",
       "    </tr>\n",
       "    <tr>\n",
       "      <th>1096</th>\n",
       "      <td>7</td>\n",
       "      <td>1154</td>\n",
       "      <td>35</td>\n",
       "      <td>159</td>\n",
       "      <td>5</td>\n",
       "      <td>16</td>\n",
       "      <td>3262</td>\n",
       "      <td>16</td>\n",
       "      <td>15</td>\n",
       "      <td>0</td>\n",
       "    </tr>\n",
       "    <tr>\n",
       "      <th>235</th>\n",
       "      <td>0</td>\n",
       "      <td>1523</td>\n",
       "      <td>11</td>\n",
       "      <td>129</td>\n",
       "      <td>1</td>\n",
       "      <td>8</td>\n",
       "      <td>707</td>\n",
       "      <td>19</td>\n",
       "      <td>8</td>\n",
       "      <td>1</td>\n",
       "    </tr>\n",
       "    <tr>\n",
       "      <th>1061</th>\n",
       "      <td>11</td>\n",
       "      <td>1522</td>\n",
       "      <td>28</td>\n",
       "      <td>124</td>\n",
       "      <td>1</td>\n",
       "      <td>5</td>\n",
       "      <td>1368</td>\n",
       "      <td>14</td>\n",
       "      <td>5</td>\n",
       "      <td>0</td>\n",
       "    </tr>\n",
       "  </tbody>\n",
       "</table>\n",
       "<p>1279 rows × 10 columns</p>\n",
       "</div>"
      ],
      "text/plain": [
       "      Brand_Name  battery_power  int_memory  mobile_wt  n_cores  pc   ram  \\\n",
       "701            7           1717          62        130        1   3  3226   \n",
       "56             0            823          60        148        8  19   905   \n",
       "142            1           1537          43        137        1   5  3685   \n",
       "863           11           1425          35        127        8  14   590   \n",
       "1387          13           1533          17        160        4  20  2520   \n",
       "...          ...            ...         ...        ...      ...  ..   ...   \n",
       "715            8            817          11        144        3  11  2039   \n",
       "905            7            989          17        166        3  19  3892   \n",
       "1096           7           1154          35        159        5  16  3262   \n",
       "235            0           1523          11        129        1   8   707   \n",
       "1061          11           1522          28        124        1   5  1368   \n",
       "\n",
       "      sc_h  sc_w  touch_screen  \n",
       "701      6     4             1  \n",
       "56      14    11             1  \n",
       "142     18    17             1  \n",
       "863     13     2             1  \n",
       "1387     8     2             0  \n",
       "...    ...   ...           ...  \n",
       "715     11     6             1  \n",
       "905     18     7             1  \n",
       "1096    16    15             0  \n",
       "235     19     8             1  \n",
       "1061    14     5             0  \n",
       "\n",
       "[1279 rows x 10 columns]"
      ]
     },
     "execution_count": 86,
     "metadata": {},
     "output_type": "execute_result"
    }
   ],
   "source": [
    "X_train\n"
   ]
  },
  {
   "cell_type": "code",
   "execution_count": 87,
   "id": "35b44960",
   "metadata": {},
   "outputs": [
    {
     "data": {
      "text/plain": [
       "701     3\n",
       "56      0\n",
       "142     3\n",
       "863     0\n",
       "1387    2\n",
       "       ..\n",
       "715     1\n",
       "905     3\n",
       "1096    3\n",
       "235     0\n",
       "1061    1\n",
       "Name: price_range, Length: 1279, dtype: int64"
      ]
     },
     "execution_count": 87,
     "metadata": {},
     "output_type": "execute_result"
    }
   ],
   "source": [
    "Y_train"
   ]
  },
  {
   "cell_type": "code",
   "execution_count": 88,
   "id": "72460d96",
   "metadata": {},
   "outputs": [
    {
     "data": {
      "text/html": [
       "<div>\n",
       "<style scoped>\n",
       "    .dataframe tbody tr th:only-of-type {\n",
       "        vertical-align: middle;\n",
       "    }\n",
       "\n",
       "    .dataframe tbody tr th {\n",
       "        vertical-align: top;\n",
       "    }\n",
       "\n",
       "    .dataframe thead th {\n",
       "        text-align: right;\n",
       "    }\n",
       "</style>\n",
       "<table border=\"1\" class=\"dataframe\">\n",
       "  <thead>\n",
       "    <tr style=\"text-align: right;\">\n",
       "      <th></th>\n",
       "      <th>Brand_Name</th>\n",
       "      <th>battery_power</th>\n",
       "      <th>int_memory</th>\n",
       "      <th>mobile_wt</th>\n",
       "      <th>n_cores</th>\n",
       "      <th>pc</th>\n",
       "      <th>ram</th>\n",
       "      <th>sc_h</th>\n",
       "      <th>sc_w</th>\n",
       "      <th>touch_screen</th>\n",
       "    </tr>\n",
       "  </thead>\n",
       "  <tbody>\n",
       "    <tr>\n",
       "      <th>75</th>\n",
       "      <td>5</td>\n",
       "      <td>819</td>\n",
       "      <td>42</td>\n",
       "      <td>188</td>\n",
       "      <td>6</td>\n",
       "      <td>20</td>\n",
       "      <td>1814</td>\n",
       "      <td>5</td>\n",
       "      <td>4</td>\n",
       "      <td>0</td>\n",
       "    </tr>\n",
       "    <tr>\n",
       "      <th>1283</th>\n",
       "      <td>2</td>\n",
       "      <td>840</td>\n",
       "      <td>15</td>\n",
       "      <td>178</td>\n",
       "      <td>6</td>\n",
       "      <td>8</td>\n",
       "      <td>2636</td>\n",
       "      <td>12</td>\n",
       "      <td>2</td>\n",
       "      <td>1</td>\n",
       "    </tr>\n",
       "    <tr>\n",
       "      <th>408</th>\n",
       "      <td>2</td>\n",
       "      <td>1504</td>\n",
       "      <td>34</td>\n",
       "      <td>142</td>\n",
       "      <td>8</td>\n",
       "      <td>15</td>\n",
       "      <td>2806</td>\n",
       "      <td>7</td>\n",
       "      <td>2</td>\n",
       "      <td>0</td>\n",
       "    </tr>\n",
       "    <tr>\n",
       "      <th>1281</th>\n",
       "      <td>1</td>\n",
       "      <td>1370</td>\n",
       "      <td>6</td>\n",
       "      <td>158</td>\n",
       "      <td>6</td>\n",
       "      <td>8</td>\n",
       "      <td>3703</td>\n",
       "      <td>13</td>\n",
       "      <td>10</td>\n",
       "      <td>1</td>\n",
       "    </tr>\n",
       "    <tr>\n",
       "      <th>1118</th>\n",
       "      <td>2</td>\n",
       "      <td>618</td>\n",
       "      <td>63</td>\n",
       "      <td>138</td>\n",
       "      <td>2</td>\n",
       "      <td>1</td>\n",
       "      <td>2574</td>\n",
       "      <td>14</td>\n",
       "      <td>3</td>\n",
       "      <td>1</td>\n",
       "    </tr>\n",
       "    <tr>\n",
       "      <th>...</th>\n",
       "      <td>...</td>\n",
       "      <td>...</td>\n",
       "      <td>...</td>\n",
       "      <td>...</td>\n",
       "      <td>...</td>\n",
       "      <td>...</td>\n",
       "      <td>...</td>\n",
       "      <td>...</td>\n",
       "      <td>...</td>\n",
       "      <td>...</td>\n",
       "    </tr>\n",
       "    <tr>\n",
       "      <th>890</th>\n",
       "      <td>3</td>\n",
       "      <td>1132</td>\n",
       "      <td>8</td>\n",
       "      <td>157</td>\n",
       "      <td>1</td>\n",
       "      <td>4</td>\n",
       "      <td>1950</td>\n",
       "      <td>11</td>\n",
       "      <td>2</td>\n",
       "      <td>1</td>\n",
       "    </tr>\n",
       "    <tr>\n",
       "      <th>146</th>\n",
       "      <td>8</td>\n",
       "      <td>1101</td>\n",
       "      <td>31</td>\n",
       "      <td>148</td>\n",
       "      <td>2</td>\n",
       "      <td>7</td>\n",
       "      <td>2196</td>\n",
       "      <td>12</td>\n",
       "      <td>6</td>\n",
       "      <td>1</td>\n",
       "    </tr>\n",
       "    <tr>\n",
       "      <th>1551</th>\n",
       "      <td>6</td>\n",
       "      <td>1712</td>\n",
       "      <td>23</td>\n",
       "      <td>155</td>\n",
       "      <td>7</td>\n",
       "      <td>19</td>\n",
       "      <td>1422</td>\n",
       "      <td>5</td>\n",
       "      <td>0</td>\n",
       "      <td>1</td>\n",
       "    </tr>\n",
       "    <tr>\n",
       "      <th>1209</th>\n",
       "      <td>5</td>\n",
       "      <td>1895</td>\n",
       "      <td>5</td>\n",
       "      <td>134</td>\n",
       "      <td>1</td>\n",
       "      <td>11</td>\n",
       "      <td>774</td>\n",
       "      <td>15</td>\n",
       "      <td>4</td>\n",
       "      <td>1</td>\n",
       "    </tr>\n",
       "    <tr>\n",
       "      <th>1220</th>\n",
       "      <td>10</td>\n",
       "      <td>580</td>\n",
       "      <td>24</td>\n",
       "      <td>135</td>\n",
       "      <td>4</td>\n",
       "      <td>5</td>\n",
       "      <td>3565</td>\n",
       "      <td>12</td>\n",
       "      <td>11</td>\n",
       "      <td>0</td>\n",
       "    </tr>\n",
       "  </tbody>\n",
       "</table>\n",
       "<p>320 rows × 10 columns</p>\n",
       "</div>"
      ],
      "text/plain": [
       "      Brand_Name  battery_power  int_memory  mobile_wt  n_cores  pc   ram  \\\n",
       "75             5            819          42        188        6  20  1814   \n",
       "1283           2            840          15        178        6   8  2636   \n",
       "408            2           1504          34        142        8  15  2806   \n",
       "1281           1           1370           6        158        6   8  3703   \n",
       "1118           2            618          63        138        2   1  2574   \n",
       "...          ...            ...         ...        ...      ...  ..   ...   \n",
       "890            3           1132           8        157        1   4  1950   \n",
       "146            8           1101          31        148        2   7  2196   \n",
       "1551           6           1712          23        155        7  19  1422   \n",
       "1209           5           1895           5        134        1  11   774   \n",
       "1220          10            580          24        135        4   5  3565   \n",
       "\n",
       "      sc_h  sc_w  touch_screen  \n",
       "75       5     4             0  \n",
       "1283    12     2             1  \n",
       "408      7     2             0  \n",
       "1281    13    10             1  \n",
       "1118    14     3             1  \n",
       "...    ...   ...           ...  \n",
       "890     11     2             1  \n",
       "146     12     6             1  \n",
       "1551     5     0             1  \n",
       "1209    15     4             1  \n",
       "1220    12    11             0  \n",
       "\n",
       "[320 rows x 10 columns]"
      ]
     },
     "execution_count": 88,
     "metadata": {},
     "output_type": "execute_result"
    }
   ],
   "source": [
    "X_test"
   ]
  },
  {
   "cell_type": "code",
   "execution_count": 89,
   "id": "cc2fa1c9",
   "metadata": {},
   "outputs": [
    {
     "data": {
      "text/plain": [
       "75      1\n",
       "1283    2\n",
       "408     2\n",
       "1281    3\n",
       "1118    2\n",
       "       ..\n",
       "890     1\n",
       "146     1\n",
       "1551    1\n",
       "1209    1\n",
       "1220    2\n",
       "Name: price_range, Length: 320, dtype: int64"
      ]
     },
     "execution_count": 89,
     "metadata": {},
     "output_type": "execute_result"
    }
   ],
   "source": [
    "Y_test"
   ]
  },
  {
   "cell_type": "markdown",
   "id": "91424a6e",
   "metadata": {},
   "source": [
    "# 1.1 Decision Tree on splited train data "
   ]
  },
  {
   "cell_type": "code",
   "execution_count": 90,
   "id": "bdc94a48",
   "metadata": {},
   "outputs": [],
   "source": [
    "from sklearn.tree import DecisionTreeClassifier\n",
    "dt=DecisionTreeClassifier()"
   ]
  },
  {
   "cell_type": "code",
   "execution_count": 91,
   "id": "abb91811",
   "metadata": {},
   "outputs": [
    {
     "data": {
      "text/html": [
       "<style>#sk-container-id-7 {color: black;background-color: white;}#sk-container-id-7 pre{padding: 0;}#sk-container-id-7 div.sk-toggleable {background-color: white;}#sk-container-id-7 label.sk-toggleable__label {cursor: pointer;display: block;width: 100%;margin-bottom: 0;padding: 0.3em;box-sizing: border-box;text-align: center;}#sk-container-id-7 label.sk-toggleable__label-arrow:before {content: \"▸\";float: left;margin-right: 0.25em;color: #696969;}#sk-container-id-7 label.sk-toggleable__label-arrow:hover:before {color: black;}#sk-container-id-7 div.sk-estimator:hover label.sk-toggleable__label-arrow:before {color: black;}#sk-container-id-7 div.sk-toggleable__content {max-height: 0;max-width: 0;overflow: hidden;text-align: left;background-color: #f0f8ff;}#sk-container-id-7 div.sk-toggleable__content pre {margin: 0.2em;color: black;border-radius: 0.25em;background-color: #f0f8ff;}#sk-container-id-7 input.sk-toggleable__control:checked~div.sk-toggleable__content {max-height: 200px;max-width: 100%;overflow: auto;}#sk-container-id-7 input.sk-toggleable__control:checked~label.sk-toggleable__label-arrow:before {content: \"▾\";}#sk-container-id-7 div.sk-estimator input.sk-toggleable__control:checked~label.sk-toggleable__label {background-color: #d4ebff;}#sk-container-id-7 div.sk-label input.sk-toggleable__control:checked~label.sk-toggleable__label {background-color: #d4ebff;}#sk-container-id-7 input.sk-hidden--visually {border: 0;clip: rect(1px 1px 1px 1px);clip: rect(1px, 1px, 1px, 1px);height: 1px;margin: -1px;overflow: hidden;padding: 0;position: absolute;width: 1px;}#sk-container-id-7 div.sk-estimator {font-family: monospace;background-color: #f0f8ff;border: 1px dotted black;border-radius: 0.25em;box-sizing: border-box;margin-bottom: 0.5em;}#sk-container-id-7 div.sk-estimator:hover {background-color: #d4ebff;}#sk-container-id-7 div.sk-parallel-item::after {content: \"\";width: 100%;border-bottom: 1px solid gray;flex-grow: 1;}#sk-container-id-7 div.sk-label:hover label.sk-toggleable__label {background-color: #d4ebff;}#sk-container-id-7 div.sk-serial::before {content: \"\";position: absolute;border-left: 1px solid gray;box-sizing: border-box;top: 0;bottom: 0;left: 50%;z-index: 0;}#sk-container-id-7 div.sk-serial {display: flex;flex-direction: column;align-items: center;background-color: white;padding-right: 0.2em;padding-left: 0.2em;position: relative;}#sk-container-id-7 div.sk-item {position: relative;z-index: 1;}#sk-container-id-7 div.sk-parallel {display: flex;align-items: stretch;justify-content: center;background-color: white;position: relative;}#sk-container-id-7 div.sk-item::before, #sk-container-id-7 div.sk-parallel-item::before {content: \"\";position: absolute;border-left: 1px solid gray;box-sizing: border-box;top: 0;bottom: 0;left: 50%;z-index: -1;}#sk-container-id-7 div.sk-parallel-item {display: flex;flex-direction: column;z-index: 1;position: relative;background-color: white;}#sk-container-id-7 div.sk-parallel-item:first-child::after {align-self: flex-end;width: 50%;}#sk-container-id-7 div.sk-parallel-item:last-child::after {align-self: flex-start;width: 50%;}#sk-container-id-7 div.sk-parallel-item:only-child::after {width: 0;}#sk-container-id-7 div.sk-dashed-wrapped {border: 1px dashed gray;margin: 0 0.4em 0.5em 0.4em;box-sizing: border-box;padding-bottom: 0.4em;background-color: white;}#sk-container-id-7 div.sk-label label {font-family: monospace;font-weight: bold;display: inline-block;line-height: 1.2em;}#sk-container-id-7 div.sk-label-container {text-align: center;}#sk-container-id-7 div.sk-container {/* jupyter's `normalize.less` sets `[hidden] { display: none; }` but bootstrap.min.css set `[hidden] { display: none !important; }` so we also need the `!important` here to be able to override the default hidden behavior on the sphinx rendered scikit-learn.org. See: https://github.com/scikit-learn/scikit-learn/issues/21755 */display: inline-block !important;position: relative;}#sk-container-id-7 div.sk-text-repr-fallback {display: none;}</style><div id=\"sk-container-id-7\" class=\"sk-top-container\"><div class=\"sk-text-repr-fallback\"><pre>DecisionTreeClassifier()</pre><b>In a Jupyter environment, please rerun this cell to show the HTML representation or trust the notebook. <br />On GitHub, the HTML representation is unable to render, please try loading this page with nbviewer.org.</b></div><div class=\"sk-container\" hidden><div class=\"sk-item\"><div class=\"sk-estimator sk-toggleable\"><input class=\"sk-toggleable__control sk-hidden--visually\" id=\"sk-estimator-id-7\" type=\"checkbox\" checked><label for=\"sk-estimator-id-7\" class=\"sk-toggleable__label sk-toggleable__label-arrow\">DecisionTreeClassifier</label><div class=\"sk-toggleable__content\"><pre>DecisionTreeClassifier()</pre></div></div></div></div></div>"
      ],
      "text/plain": [
       "DecisionTreeClassifier()"
      ]
     },
     "execution_count": 91,
     "metadata": {},
     "output_type": "execute_result"
    }
   ],
   "source": [
    "dt.fit(X_train,Y_train)"
   ]
  },
  {
   "cell_type": "code",
   "execution_count": 92,
   "id": "d2dc4b2e",
   "metadata": {},
   "outputs": [],
   "source": [
    "Y_pred=dt.predict(X_test)"
   ]
  },
  {
   "cell_type": "code",
   "execution_count": 93,
   "id": "5255dc91",
   "metadata": {},
   "outputs": [
    {
     "data": {
      "text/plain": [
       "array([1, 2, 2, 3, 2, 2, 2, 0, 2, 3, 2, 1, 0, 1, 1, 1, 3, 1, 3, 3, 1, 2,\n",
       "       2, 2, 0, 2, 0, 1, 2, 0, 3, 1, 3, 0, 0, 1, 1, 1, 0, 3, 0, 0, 0, 2,\n",
       "       2, 1, 1, 0, 3, 3, 1, 2, 1, 0, 3, 2, 2, 2, 0, 1, 2, 3, 0, 3, 3, 3,\n",
       "       0, 2, 0, 2, 1, 1, 0, 1, 3, 3, 2, 2, 0, 1, 3, 1, 3, 0, 0, 1, 1, 0,\n",
       "       0, 2, 1, 2, 2, 3, 0, 2, 2, 2, 3, 1, 0, 0, 1, 1, 1, 2, 1, 0, 0, 2,\n",
       "       3, 2, 0, 3, 1, 2, 1, 2, 3, 1, 3, 0, 1, 3, 1, 0, 3, 2, 0, 3, 3, 2,\n",
       "       1, 2, 1, 1, 2, 2, 0, 2, 1, 2, 0, 3, 3, 3, 1, 0, 2, 0, 0, 0, 3, 2,\n",
       "       3, 1, 0, 3, 2, 2, 2, 1, 1, 0, 2, 1, 3, 3, 0, 0, 3, 3, 3, 1, 1, 2,\n",
       "       0, 2, 0, 0, 2, 1, 0, 2, 1, 3, 2, 3, 1, 1, 0, 1, 3, 0, 3, 3, 1, 1,\n",
       "       2, 2, 2, 3, 0, 1, 1, 3, 2, 3, 1, 2, 2, 2, 0, 1, 3, 0, 0, 2, 3, 2,\n",
       "       2, 2, 1, 2, 3, 0, 2, 3, 1, 3, 1, 1, 2, 2, 1, 0, 2, 1, 2, 2, 2, 2,\n",
       "       0, 2, 2, 1, 3, 1, 0, 2, 1, 2, 3, 0, 2, 0, 3, 1, 2, 1, 1, 0, 0, 3,\n",
       "       3, 0, 3, 0, 0, 2, 0, 2, 2, 2, 0, 0, 3, 1, 1, 3, 3, 1, 0, 3, 2, 1,\n",
       "       3, 2, 0, 2, 0, 3, 0, 0, 2, 1, 2, 3, 1, 3, 0, 2, 3, 1, 0, 3, 1, 1,\n",
       "       3, 0, 0, 3, 1, 1, 2, 1, 1, 1, 1, 2], dtype=int64)"
      ]
     },
     "execution_count": 93,
     "metadata": {},
     "output_type": "execute_result"
    }
   ],
   "source": [
    "Y_pred"
   ]
  },
  {
   "cell_type": "code",
   "execution_count": 94,
   "id": "60309a35",
   "metadata": {},
   "outputs": [
    {
     "data": {
      "text/plain": [
       "75      1\n",
       "1283    2\n",
       "408     2\n",
       "1281    3\n",
       "1118    2\n",
       "       ..\n",
       "890     1\n",
       "146     1\n",
       "1551    1\n",
       "1209    1\n",
       "1220    2\n",
       "Name: price_range, Length: 320, dtype: int64"
      ]
     },
     "execution_count": 94,
     "metadata": {},
     "output_type": "execute_result"
    }
   ],
   "source": [
    "Y_test"
   ]
  },
  {
   "cell_type": "code",
   "execution_count": 95,
   "id": "47e29c1f",
   "metadata": {},
   "outputs": [],
   "source": [
    "from sklearn.metrics import accuracy_score"
   ]
  },
  {
   "cell_type": "code",
   "execution_count": 96,
   "id": "ede642c9",
   "metadata": {},
   "outputs": [],
   "source": [
    "dt_ac=accuracy_score(Y_test,Y_pred)"
   ]
  },
  {
   "cell_type": "code",
   "execution_count": 97,
   "id": "baa2e351",
   "metadata": {},
   "outputs": [
    {
     "data": {
      "text/plain": [
       "0.90625"
      ]
     },
     "execution_count": 97,
     "metadata": {},
     "output_type": "execute_result"
    }
   ],
   "source": [
    "dt_ac"
   ]
  },
  {
   "cell_type": "markdown",
   "id": "08e1e27a",
   "metadata": {},
   "source": [
    "# 2 KNN"
   ]
  },
  {
   "cell_type": "markdown",
   "id": "d0886b07",
   "metadata": {},
   "source": [
    "Using Standard Scaler for knn"
   ]
  },
  {
   "cell_type": "code",
   "execution_count": 99,
   "id": "1bc8955a",
   "metadata": {},
   "outputs": [],
   "source": [
    "X_train_std=std.fit_transform(X_train)\n",
    "\n",
    "X_test_std=std.transform(X_test)"
   ]
  },
  {
   "cell_type": "code",
   "execution_count": 100,
   "id": "1f83ae2c",
   "metadata": {},
   "outputs": [
    {
     "data": {
      "text/plain": [
       "array([[-0.17899589, -0.98367545,  0.52409565, ..., -1.71519119,\n",
       "        -0.40009571, -1.04396805],\n",
       "       [-0.98040458, -0.93565853, -0.97042088, ..., -0.05219501,\n",
       "        -0.86007092,  0.95788372],\n",
       "       [-0.98040458,  0.58259057,  0.08127594, ..., -1.24004943,\n",
       "        -0.86007092, -1.04396805],\n",
       "       ...,\n",
       "       [ 0.08814033,  1.05818667, -0.52760116, ..., -1.71519119,\n",
       "        -1.32004613,  0.95788372],\n",
       "       [-0.17899589,  1.47661978, -1.52394551, ...,  0.66051764,\n",
       "        -0.40009571,  0.95788372],\n",
       "       [ 1.15668525, -1.53015366, -0.4722487 , ..., -0.05219501,\n",
       "         1.20981751, -1.04396805]])"
      ]
     },
     "execution_count": 100,
     "metadata": {},
     "output_type": "execute_result"
    }
   ],
   "source": [
    "X_test_std"
   ]
  },
  {
   "cell_type": "code",
   "execution_count": 101,
   "id": "0bbfe297",
   "metadata": {},
   "outputs": [],
   "source": [
    "from sklearn.neighbors import KNeighborsClassifier\n",
    "knn=KNeighborsClassifier()"
   ]
  },
  {
   "cell_type": "code",
   "execution_count": 102,
   "id": "7a13c110",
   "metadata": {},
   "outputs": [
    {
     "data": {
      "text/html": [
       "<style>#sk-container-id-8 {color: black;background-color: white;}#sk-container-id-8 pre{padding: 0;}#sk-container-id-8 div.sk-toggleable {background-color: white;}#sk-container-id-8 label.sk-toggleable__label {cursor: pointer;display: block;width: 100%;margin-bottom: 0;padding: 0.3em;box-sizing: border-box;text-align: center;}#sk-container-id-8 label.sk-toggleable__label-arrow:before {content: \"▸\";float: left;margin-right: 0.25em;color: #696969;}#sk-container-id-8 label.sk-toggleable__label-arrow:hover:before {color: black;}#sk-container-id-8 div.sk-estimator:hover label.sk-toggleable__label-arrow:before {color: black;}#sk-container-id-8 div.sk-toggleable__content {max-height: 0;max-width: 0;overflow: hidden;text-align: left;background-color: #f0f8ff;}#sk-container-id-8 div.sk-toggleable__content pre {margin: 0.2em;color: black;border-radius: 0.25em;background-color: #f0f8ff;}#sk-container-id-8 input.sk-toggleable__control:checked~div.sk-toggleable__content {max-height: 200px;max-width: 100%;overflow: auto;}#sk-container-id-8 input.sk-toggleable__control:checked~label.sk-toggleable__label-arrow:before {content: \"▾\";}#sk-container-id-8 div.sk-estimator input.sk-toggleable__control:checked~label.sk-toggleable__label {background-color: #d4ebff;}#sk-container-id-8 div.sk-label input.sk-toggleable__control:checked~label.sk-toggleable__label {background-color: #d4ebff;}#sk-container-id-8 input.sk-hidden--visually {border: 0;clip: rect(1px 1px 1px 1px);clip: rect(1px, 1px, 1px, 1px);height: 1px;margin: -1px;overflow: hidden;padding: 0;position: absolute;width: 1px;}#sk-container-id-8 div.sk-estimator {font-family: monospace;background-color: #f0f8ff;border: 1px dotted black;border-radius: 0.25em;box-sizing: border-box;margin-bottom: 0.5em;}#sk-container-id-8 div.sk-estimator:hover {background-color: #d4ebff;}#sk-container-id-8 div.sk-parallel-item::after {content: \"\";width: 100%;border-bottom: 1px solid gray;flex-grow: 1;}#sk-container-id-8 div.sk-label:hover label.sk-toggleable__label {background-color: #d4ebff;}#sk-container-id-8 div.sk-serial::before {content: \"\";position: absolute;border-left: 1px solid gray;box-sizing: border-box;top: 0;bottom: 0;left: 50%;z-index: 0;}#sk-container-id-8 div.sk-serial {display: flex;flex-direction: column;align-items: center;background-color: white;padding-right: 0.2em;padding-left: 0.2em;position: relative;}#sk-container-id-8 div.sk-item {position: relative;z-index: 1;}#sk-container-id-8 div.sk-parallel {display: flex;align-items: stretch;justify-content: center;background-color: white;position: relative;}#sk-container-id-8 div.sk-item::before, #sk-container-id-8 div.sk-parallel-item::before {content: \"\";position: absolute;border-left: 1px solid gray;box-sizing: border-box;top: 0;bottom: 0;left: 50%;z-index: -1;}#sk-container-id-8 div.sk-parallel-item {display: flex;flex-direction: column;z-index: 1;position: relative;background-color: white;}#sk-container-id-8 div.sk-parallel-item:first-child::after {align-self: flex-end;width: 50%;}#sk-container-id-8 div.sk-parallel-item:last-child::after {align-self: flex-start;width: 50%;}#sk-container-id-8 div.sk-parallel-item:only-child::after {width: 0;}#sk-container-id-8 div.sk-dashed-wrapped {border: 1px dashed gray;margin: 0 0.4em 0.5em 0.4em;box-sizing: border-box;padding-bottom: 0.4em;background-color: white;}#sk-container-id-8 div.sk-label label {font-family: monospace;font-weight: bold;display: inline-block;line-height: 1.2em;}#sk-container-id-8 div.sk-label-container {text-align: center;}#sk-container-id-8 div.sk-container {/* jupyter's `normalize.less` sets `[hidden] { display: none; }` but bootstrap.min.css set `[hidden] { display: none !important; }` so we also need the `!important` here to be able to override the default hidden behavior on the sphinx rendered scikit-learn.org. See: https://github.com/scikit-learn/scikit-learn/issues/21755 */display: inline-block !important;position: relative;}#sk-container-id-8 div.sk-text-repr-fallback {display: none;}</style><div id=\"sk-container-id-8\" class=\"sk-top-container\"><div class=\"sk-text-repr-fallback\"><pre>KNeighborsClassifier()</pre><b>In a Jupyter environment, please rerun this cell to show the HTML representation or trust the notebook. <br />On GitHub, the HTML representation is unable to render, please try loading this page with nbviewer.org.</b></div><div class=\"sk-container\" hidden><div class=\"sk-item\"><div class=\"sk-estimator sk-toggleable\"><input class=\"sk-toggleable__control sk-hidden--visually\" id=\"sk-estimator-id-8\" type=\"checkbox\" checked><label for=\"sk-estimator-id-8\" class=\"sk-toggleable__label sk-toggleable__label-arrow\">KNeighborsClassifier</label><div class=\"sk-toggleable__content\"><pre>KNeighborsClassifier()</pre></div></div></div></div></div>"
      ],
      "text/plain": [
       "KNeighborsClassifier()"
      ]
     },
     "execution_count": 102,
     "metadata": {},
     "output_type": "execute_result"
    }
   ],
   "source": [
    "knn.fit(X_train_std,Y_train)"
   ]
  },
  {
   "cell_type": "code",
   "execution_count": 103,
   "id": "1296a9b1",
   "metadata": {},
   "outputs": [],
   "source": [
    "Y_pred=knn.predict(X_test_std)"
   ]
  },
  {
   "cell_type": "code",
   "execution_count": 104,
   "id": "caf07b48",
   "metadata": {},
   "outputs": [
    {
     "data": {
      "text/plain": [
       "array([0, 1, 3, 3, 1, 2, 2, 1, 3, 1, 2, 0, 1, 1, 1, 1, 3, 0, 3, 2, 0, 2,\n",
       "       2, 2, 0, 2, 0, 1, 2, 0, 3, 2, 3, 0, 0, 1, 1, 1, 0, 2, 1, 0, 0, 2,\n",
       "       2, 0, 1, 1, 1, 3, 0, 0, 0, 0, 3, 1, 1, 2, 0, 1, 3, 3, 1, 3, 3, 2,\n",
       "       0, 2, 1, 1, 2, 2, 0, 3, 3, 3, 2, 2, 1, 1, 3, 1, 2, 1, 0, 1, 1, 1,\n",
       "       0, 2, 1, 1, 1, 2, 0, 1, 2, 2, 3, 0, 0, 0, 1, 1, 0, 2, 0, 0, 0, 2,\n",
       "       2, 1, 0, 3, 1, 1, 1, 2, 3, 3, 3, 0, 2, 2, 1, 0, 2, 2, 2, 3, 3, 2,\n",
       "       1, 2, 1, 1, 1, 2, 0, 2, 1, 1, 1, 2, 1, 3, 1, 0, 3, 0, 0, 0, 3, 2,\n",
       "       3, 0, 0, 1, 1, 2, 1, 2, 1, 0, 2, 1, 3, 3, 0, 0, 3, 3, 3, 0, 1, 3,\n",
       "       0, 1, 0, 0, 2, 2, 0, 2, 1, 1, 2, 3, 2, 1, 0, 1, 2, 0, 3, 3, 1, 1,\n",
       "       2, 0, 1, 3, 0, 0, 1, 3, 2, 3, 1, 3, 2, 2, 0, 1, 2, 1, 0, 3, 3, 1,\n",
       "       1, 2, 1, 1, 3, 0, 3, 3, 1, 2, 1, 0, 2, 1, 1, 0, 1, 0, 3, 2, 3, 2,\n",
       "       1, 2, 2, 0, 2, 1, 0, 1, 0, 1, 3, 0, 3, 0, 2, 1, 2, 1, 0, 1, 0, 3,\n",
       "       3, 1, 3, 1, 0, 1, 0, 2, 2, 1, 0, 0, 3, 1, 0, 3, 3, 1, 1, 3, 2, 1,\n",
       "       2, 2, 0, 2, 1, 3, 0, 1, 1, 1, 3, 2, 1, 2, 0, 2, 3, 0, 0, 3, 1, 1,\n",
       "       3, 1, 0, 2, 1, 1, 1, 1, 1, 0, 1, 2], dtype=int64)"
      ]
     },
     "execution_count": 104,
     "metadata": {},
     "output_type": "execute_result"
    }
   ],
   "source": [
    "Y_pred"
   ]
  },
  {
   "cell_type": "code",
   "execution_count": 105,
   "id": "58df669f",
   "metadata": {},
   "outputs": [],
   "source": [
    "knn_ac=accuracy_score(Y_test,Y_pred)"
   ]
  },
  {
   "cell_type": "code",
   "execution_count": null,
   "id": "6cd8faa6",
   "metadata": {},
   "outputs": [],
   "source": [
    "knn_ac\n",
    "plt.figure(figsize = (10,10))\n",
    "plt.plot(k,train_acc,'ro-',k,test_acc,'bv--')\n",
    "plt.legend(['Train Accuracy','Test Accuracy'])\n",
    "plt.xlabel('Number of Neighbors (K)')\n",
    "plt.ylabel('Accuracy');"
   ]
  },
  {
   "cell_type": "markdown",
   "id": "2dd42389",
   "metadata": {},
   "source": [
    "# 3. Logistic Regression"
   ]
  },
  {
   "cell_type": "code",
   "execution_count": 108,
   "id": "cbb18ebe",
   "metadata": {},
   "outputs": [],
   "source": [
    "from sklearn.linear_model import LogisticRegression\n",
    "lr=LogisticRegression()"
   ]
  },
  {
   "cell_type": "code",
   "execution_count": 109,
   "id": "69b1e133",
   "metadata": {},
   "outputs": [
    {
     "data": {
      "text/html": [
       "<style>#sk-container-id-9 {color: black;background-color: white;}#sk-container-id-9 pre{padding: 0;}#sk-container-id-9 div.sk-toggleable {background-color: white;}#sk-container-id-9 label.sk-toggleable__label {cursor: pointer;display: block;width: 100%;margin-bottom: 0;padding: 0.3em;box-sizing: border-box;text-align: center;}#sk-container-id-9 label.sk-toggleable__label-arrow:before {content: \"▸\";float: left;margin-right: 0.25em;color: #696969;}#sk-container-id-9 label.sk-toggleable__label-arrow:hover:before {color: black;}#sk-container-id-9 div.sk-estimator:hover label.sk-toggleable__label-arrow:before {color: black;}#sk-container-id-9 div.sk-toggleable__content {max-height: 0;max-width: 0;overflow: hidden;text-align: left;background-color: #f0f8ff;}#sk-container-id-9 div.sk-toggleable__content pre {margin: 0.2em;color: black;border-radius: 0.25em;background-color: #f0f8ff;}#sk-container-id-9 input.sk-toggleable__control:checked~div.sk-toggleable__content {max-height: 200px;max-width: 100%;overflow: auto;}#sk-container-id-9 input.sk-toggleable__control:checked~label.sk-toggleable__label-arrow:before {content: \"▾\";}#sk-container-id-9 div.sk-estimator input.sk-toggleable__control:checked~label.sk-toggleable__label {background-color: #d4ebff;}#sk-container-id-9 div.sk-label input.sk-toggleable__control:checked~label.sk-toggleable__label {background-color: #d4ebff;}#sk-container-id-9 input.sk-hidden--visually {border: 0;clip: rect(1px 1px 1px 1px);clip: rect(1px, 1px, 1px, 1px);height: 1px;margin: -1px;overflow: hidden;padding: 0;position: absolute;width: 1px;}#sk-container-id-9 div.sk-estimator {font-family: monospace;background-color: #f0f8ff;border: 1px dotted black;border-radius: 0.25em;box-sizing: border-box;margin-bottom: 0.5em;}#sk-container-id-9 div.sk-estimator:hover {background-color: #d4ebff;}#sk-container-id-9 div.sk-parallel-item::after {content: \"\";width: 100%;border-bottom: 1px solid gray;flex-grow: 1;}#sk-container-id-9 div.sk-label:hover label.sk-toggleable__label {background-color: #d4ebff;}#sk-container-id-9 div.sk-serial::before {content: \"\";position: absolute;border-left: 1px solid gray;box-sizing: border-box;top: 0;bottom: 0;left: 50%;z-index: 0;}#sk-container-id-9 div.sk-serial {display: flex;flex-direction: column;align-items: center;background-color: white;padding-right: 0.2em;padding-left: 0.2em;position: relative;}#sk-container-id-9 div.sk-item {position: relative;z-index: 1;}#sk-container-id-9 div.sk-parallel {display: flex;align-items: stretch;justify-content: center;background-color: white;position: relative;}#sk-container-id-9 div.sk-item::before, #sk-container-id-9 div.sk-parallel-item::before {content: \"\";position: absolute;border-left: 1px solid gray;box-sizing: border-box;top: 0;bottom: 0;left: 50%;z-index: -1;}#sk-container-id-9 div.sk-parallel-item {display: flex;flex-direction: column;z-index: 1;position: relative;background-color: white;}#sk-container-id-9 div.sk-parallel-item:first-child::after {align-self: flex-end;width: 50%;}#sk-container-id-9 div.sk-parallel-item:last-child::after {align-self: flex-start;width: 50%;}#sk-container-id-9 div.sk-parallel-item:only-child::after {width: 0;}#sk-container-id-9 div.sk-dashed-wrapped {border: 1px dashed gray;margin: 0 0.4em 0.5em 0.4em;box-sizing: border-box;padding-bottom: 0.4em;background-color: white;}#sk-container-id-9 div.sk-label label {font-family: monospace;font-weight: bold;display: inline-block;line-height: 1.2em;}#sk-container-id-9 div.sk-label-container {text-align: center;}#sk-container-id-9 div.sk-container {/* jupyter's `normalize.less` sets `[hidden] { display: none; }` but bootstrap.min.css set `[hidden] { display: none !important; }` so we also need the `!important` here to be able to override the default hidden behavior on the sphinx rendered scikit-learn.org. See: https://github.com/scikit-learn/scikit-learn/issues/21755 */display: inline-block !important;position: relative;}#sk-container-id-9 div.sk-text-repr-fallback {display: none;}</style><div id=\"sk-container-id-9\" class=\"sk-top-container\"><div class=\"sk-text-repr-fallback\"><pre>LogisticRegression()</pre><b>In a Jupyter environment, please rerun this cell to show the HTML representation or trust the notebook. <br />On GitHub, the HTML representation is unable to render, please try loading this page with nbviewer.org.</b></div><div class=\"sk-container\" hidden><div class=\"sk-item\"><div class=\"sk-estimator sk-toggleable\"><input class=\"sk-toggleable__control sk-hidden--visually\" id=\"sk-estimator-id-9\" type=\"checkbox\" checked><label for=\"sk-estimator-id-9\" class=\"sk-toggleable__label sk-toggleable__label-arrow\">LogisticRegression</label><div class=\"sk-toggleable__content\"><pre>LogisticRegression()</pre></div></div></div></div></div>"
      ],
      "text/plain": [
       "LogisticRegression()"
      ]
     },
     "execution_count": 109,
     "metadata": {},
     "output_type": "execute_result"
    }
   ],
   "source": [
    "lr.fit(X_train_std,Y_train)"
   ]
  },
  {
   "cell_type": "code",
   "execution_count": 110,
   "id": "e21756c2",
   "metadata": {},
   "outputs": [],
   "source": [
    "Y_pred=lr.predict(X_test_std)"
   ]
  },
  {
   "cell_type": "code",
   "execution_count": 111,
   "id": "d76b34ff",
   "metadata": {},
   "outputs": [
    {
     "data": {
      "text/plain": [
       "array([1, 2, 2, 3, 1, 2, 2, 0, 3, 3, 2, 1, 0, 1, 1, 1, 3, 1, 2, 3, 1, 2,\n",
       "       2, 1, 0, 2, 0, 2, 2, 0, 2, 1, 3, 0, 1, 1, 1, 1, 0, 3, 0, 0, 0, 2,\n",
       "       1, 1, 1, 0, 2, 3, 1, 2, 1, 0, 3, 1, 1, 2, 0, 1, 2, 3, 0, 3, 3, 2,\n",
       "       1, 2, 0, 1, 2, 1, 0, 3, 3, 3, 2, 2, 1, 1, 3, 2, 3, 0, 0, 1, 1, 0,\n",
       "       0, 2, 2, 2, 1, 3, 0, 2, 2, 2, 3, 1, 0, 0, 1, 1, 0, 1, 1, 0, 0, 2,\n",
       "       3, 2, 2, 3, 1, 2, 1, 2, 3, 2, 3, 0, 1, 3, 1, 0, 2, 2, 0, 3, 3, 2,\n",
       "       1, 2, 1, 1, 2, 2, 1, 2, 1, 2, 0, 3, 3, 3, 1, 0, 2, 0, 0, 0, 2, 1,\n",
       "       3, 1, 0, 2, 2, 2, 2, 2, 1, 0, 2, 1, 3, 3, 0, 0, 3, 2, 3, 1, 2, 2,\n",
       "       0, 1, 1, 0, 2, 2, 0, 3, 0, 2, 2, 3, 2, 1, 0, 1, 2, 0, 3, 3, 1, 1,\n",
       "       2, 1, 2, 3, 1, 1, 0, 3, 2, 3, 1, 2, 2, 2, 0, 1, 3, 0, 0, 2, 3, 1,\n",
       "       1, 2, 1, 2, 3, 0, 2, 3, 0, 3, 1, 1, 1, 2, 1, 0, 1, 1, 2, 2, 2, 2,\n",
       "       1, 2, 2, 1, 3, 1, 0, 2, 0, 1, 3, 1, 2, 1, 2, 1, 2, 1, 1, 0, 0, 3,\n",
       "       3, 0, 3, 0, 0, 1, 0, 2, 2, 2, 0, 0, 3, 1, 1, 3, 2, 1, 1, 3, 2, 1,\n",
       "       2, 2, 0, 2, 1, 2, 0, 0, 1, 1, 2, 3, 1, 3, 0, 2, 3, 1, 0, 3, 1, 1,\n",
       "       3, 0, 0, 3, 1, 1, 2, 1, 1, 1, 0, 2], dtype=int64)"
      ]
     },
     "execution_count": 111,
     "metadata": {},
     "output_type": "execute_result"
    }
   ],
   "source": [
    "Y_pred"
   ]
  },
  {
   "cell_type": "code",
   "execution_count": 112,
   "id": "2ba173b9",
   "metadata": {},
   "outputs": [],
   "source": [
    "lr_ac=accuracy_score(Y_test,Y_pred)"
   ]
  },
  {
   "cell_type": "code",
   "execution_count": 113,
   "id": "9d951c86",
   "metadata": {},
   "outputs": [
    {
     "data": {
      "text/plain": [
       "0.81875"
      ]
     },
     "execution_count": 113,
     "metadata": {},
     "output_type": "execute_result"
    }
   ],
   "source": [
    "lr_ac"
   ]
  },
  {
   "cell_type": "code",
   "execution_count": 114,
   "id": "cce932c4",
   "metadata": {},
   "outputs": [
    {
     "data": {
      "image/png": "[encoded data removed]",
      "text/plain": [
       "<Figure size 640x480 with 1 Axes>"
      ]
     },
     "metadata": {},
     "output_type": "display_data"
    }
   ],
   "source": [
    "plt.bar(x=['dt','knn','lr'],height=[dt_ac,knn_ac,lr_ac])\n",
    "plt.xlabel(\"Algorithms\")\n",
    "plt.ylabel(\"Accuracy Score\")\n",
    "plt.show()"
   ]
  },
  {
   "cell_type": "markdown",
   "id": "85995e4a",
   "metadata": {},
   "source": [
    "# 4.SVM"
   ]
  },
  {
   "cell_type": "code",
   "execution_count": 117,
   "id": "667e3bd0",
   "metadata": {},
   "outputs": [],
   "source": [
    "from sklearn.svm import SVC"
   ]
  },
  {
   "cell_type": "code",
   "execution_count": 118,
   "id": "5149ca0c",
   "metadata": {},
   "outputs": [],
   "source": [
    "model = SVC(gamma = 'auto')"
   ]
  },
  {
   "cell_type": "code",
   "execution_count": 131,
   "id": "47bb2089",
   "metadata": {},
   "outputs": [
    {
     "data": {
      "text/html": [
       "<style>#sk-container-id-12 {color: black;background-color: white;}#sk-container-id-12 pre{padding: 0;}#sk-container-id-12 div.sk-toggleable {background-color: white;}#sk-container-id-12 label.sk-toggleable__label {cursor: pointer;display: block;width: 100%;margin-bottom: 0;padding: 0.3em;box-sizing: border-box;text-align: center;}#sk-container-id-12 label.sk-toggleable__label-arrow:before {content: \"▸\";float: left;margin-right: 0.25em;color: #696969;}#sk-container-id-12 label.sk-toggleable__label-arrow:hover:before {color: black;}#sk-container-id-12 div.sk-estimator:hover label.sk-toggleable__label-arrow:before {color: black;}#sk-container-id-12 div.sk-toggleable__content {max-height: 0;max-width: 0;overflow: hidden;text-align: left;background-color: #f0f8ff;}#sk-container-id-12 div.sk-toggleable__content pre {margin: 0.2em;color: black;border-radius: 0.25em;background-color: #f0f8ff;}#sk-container-id-12 input.sk-toggleable__control:checked~div.sk-toggleable__content {max-height: 200px;max-width: 100%;overflow: auto;}#sk-container-id-12 input.sk-toggleable__control:checked~label.sk-toggleable__label-arrow:before {content: \"▾\";}#sk-container-id-12 div.sk-estimator input.sk-toggleable__control:checked~label.sk-toggleable__label {background-color: #d4ebff;}#sk-container-id-12 div.sk-label input.sk-toggleable__control:checked~label.sk-toggleable__label {background-color: #d4ebff;}#sk-container-id-12 input.sk-hidden--visually {border: 0;clip: rect(1px 1px 1px 1px);clip: rect(1px, 1px, 1px, 1px);height: 1px;margin: -1px;overflow: hidden;padding: 0;position: absolute;width: 1px;}#sk-container-id-12 div.sk-estimator {font-family: monospace;background-color: #f0f8ff;border: 1px dotted black;border-radius: 0.25em;box-sizing: border-box;margin-bottom: 0.5em;}#sk-container-id-12 div.sk-estimator:hover {background-color: #d4ebff;}#sk-container-id-12 div.sk-parallel-item::after {content: \"\";width: 100%;border-bottom: 1px solid gray;flex-grow: 1;}#sk-container-id-12 div.sk-label:hover label.sk-toggleable__label {background-color: #d4ebff;}#sk-container-id-12 div.sk-serial::before {content: \"\";position: absolute;border-left: 1px solid gray;box-sizing: border-box;top: 0;bottom: 0;left: 50%;z-index: 0;}#sk-container-id-12 div.sk-serial {display: flex;flex-direction: column;align-items: center;background-color: white;padding-right: 0.2em;padding-left: 0.2em;position: relative;}#sk-container-id-12 div.sk-item {position: relative;z-index: 1;}#sk-container-id-12 div.sk-parallel {display: flex;align-items: stretch;justify-content: center;background-color: white;position: relative;}#sk-container-id-12 div.sk-item::before, #sk-container-id-12 div.sk-parallel-item::before {content: \"\";position: absolute;border-left: 1px solid gray;box-sizing: border-box;top: 0;bottom: 0;left: 50%;z-index: -1;}#sk-container-id-12 div.sk-parallel-item {display: flex;flex-direction: column;z-index: 1;position: relative;background-color: white;}#sk-container-id-12 div.sk-parallel-item:first-child::after {align-self: flex-end;width: 50%;}#sk-container-id-12 div.sk-parallel-item:last-child::after {align-self: flex-start;width: 50%;}#sk-container-id-12 div.sk-parallel-item:only-child::after {width: 0;}#sk-container-id-12 div.sk-dashed-wrapped {border: 1px dashed gray;margin: 0 0.4em 0.5em 0.4em;box-sizing: border-box;padding-bottom: 0.4em;background-color: white;}#sk-container-id-12 div.sk-label label {font-family: monospace;font-weight: bold;display: inline-block;line-height: 1.2em;}#sk-container-id-12 div.sk-label-container {text-align: center;}#sk-container-id-12 div.sk-container {/* jupyter's `normalize.less` sets `[hidden] { display: none; }` but bootstrap.min.css set `[hidden] { display: none !important; }` so we also need the `!important` here to be able to override the default hidden behavior on the sphinx rendered scikit-learn.org. See: https://github.com/scikit-learn/scikit-learn/issues/21755 */display: inline-block !important;position: relative;}#sk-container-id-12 div.sk-text-repr-fallback {display: none;}</style><div id=\"sk-container-id-12\" class=\"sk-top-container\"><div class=\"sk-text-repr-fallback\"><pre>SVC(gamma=&#x27;auto&#x27;)</pre><b>In a Jupyter environment, please rerun this cell to show the HTML representation or trust the notebook. <br />On GitHub, the HTML representation is unable to render, please try loading this page with nbviewer.org.</b></div><div class=\"sk-container\" hidden><div class=\"sk-item\"><div class=\"sk-estimator sk-toggleable\"><input class=\"sk-toggleable__control sk-hidden--visually\" id=\"sk-estimator-id-12\" type=\"checkbox\" checked><label for=\"sk-estimator-id-12\" class=\"sk-toggleable__label sk-toggleable__label-arrow\">SVC</label><div class=\"sk-toggleable__content\"><pre>SVC(gamma=&#x27;auto&#x27;)</pre></div></div></div></div></div>"
      ],
      "text/plain": [
       "SVC(gamma='auto')"
      ]
     },
     "execution_count": 131,
     "metadata": {},
     "output_type": "execute_result"
    }
   ],
   "source": [
    "model.fit(X_train,Y_train)"
   ]
  },
  {
   "cell_type": "code",
   "execution_count": 132,
   "id": "226230f9",
   "metadata": {},
   "outputs": [
    {
     "data": {
      "text/plain": [
       "0.215625"
      ]
     },
     "execution_count": 132,
     "metadata": {},
     "output_type": "execute_result"
    }
   ],
   "source": [
    "model.score(X_test,Y_test)"
   ]
  },
  {
   "cell_type": "markdown",
   "id": "6be87fd3",
   "metadata": {},
   "source": [
    "# Random forest"
   ]
  },
  {
   "cell_type": "code",
   "execution_count": 129,
   "id": "ed563dd3",
   "metadata": {},
   "outputs": [
    {
     "data": {
      "text/html": [
       "<style>#sk-container-id-11 {color: black;background-color: white;}#sk-container-id-11 pre{padding: 0;}#sk-container-id-11 div.sk-toggleable {background-color: white;}#sk-container-id-11 label.sk-toggleable__label {cursor: pointer;display: block;width: 100%;margin-bottom: 0;padding: 0.3em;box-sizing: border-box;text-align: center;}#sk-container-id-11 label.sk-toggleable__label-arrow:before {content: \"▸\";float: left;margin-right: 0.25em;color: #696969;}#sk-container-id-11 label.sk-toggleable__label-arrow:hover:before {color: black;}#sk-container-id-11 div.sk-estimator:hover label.sk-toggleable__label-arrow:before {color: black;}#sk-container-id-11 div.sk-toggleable__content {max-height: 0;max-width: 0;overflow: hidden;text-align: left;background-color: #f0f8ff;}#sk-container-id-11 div.sk-toggleable__content pre {margin: 0.2em;color: black;border-radius: 0.25em;background-color: #f0f8ff;}#sk-container-id-11 input.sk-toggleable__control:checked~div.sk-toggleable__content {max-height: 200px;max-width: 100%;overflow: auto;}#sk-container-id-11 input.sk-toggleable__control:checked~label.sk-toggleable__label-arrow:before {content: \"▾\";}#sk-container-id-11 div.sk-estimator input.sk-toggleable__control:checked~label.sk-toggleable__label {background-color: #d4ebff;}#sk-container-id-11 div.sk-label input.sk-toggleable__control:checked~label.sk-toggleable__label {background-color: #d4ebff;}#sk-container-id-11 input.sk-hidden--visually {border: 0;clip: rect(1px 1px 1px 1px);clip: rect(1px, 1px, 1px, 1px);height: 1px;margin: -1px;overflow: hidden;padding: 0;position: absolute;width: 1px;}#sk-container-id-11 div.sk-estimator {font-family: monospace;background-color: #f0f8ff;border: 1px dotted black;border-radius: 0.25em;box-sizing: border-box;margin-bottom: 0.5em;}#sk-container-id-11 div.sk-estimator:hover {background-color: #d4ebff;}#sk-container-id-11 div.sk-parallel-item::after {content: \"\";width: 100%;border-bottom: 1px solid gray;flex-grow: 1;}#sk-container-id-11 div.sk-label:hover label.sk-toggleable__label {background-color: #d4ebff;}#sk-container-id-11 div.sk-serial::before {content: \"\";position: absolute;border-left: 1px solid gray;box-sizing: border-box;top: 0;bottom: 0;left: 50%;z-index: 0;}#sk-container-id-11 div.sk-serial {display: flex;flex-direction: column;align-items: center;background-color: white;padding-right: 0.2em;padding-left: 0.2em;position: relative;}#sk-container-id-11 div.sk-item {position: relative;z-index: 1;}#sk-container-id-11 div.sk-parallel {display: flex;align-items: stretch;justify-content: center;background-color: white;position: relative;}#sk-container-id-11 div.sk-item::before, #sk-container-id-11 div.sk-parallel-item::before {content: \"\";position: absolute;border-left: 1px solid gray;box-sizing: border-box;top: 0;bottom: 0;left: 50%;z-index: -1;}#sk-container-id-11 div.sk-parallel-item {display: flex;flex-direction: column;z-index: 1;position: relative;background-color: white;}#sk-container-id-11 div.sk-parallel-item:first-child::after {align-self: flex-end;width: 50%;}#sk-container-id-11 div.sk-parallel-item:last-child::after {align-self: flex-start;width: 50%;}#sk-container-id-11 div.sk-parallel-item:only-child::after {width: 0;}#sk-container-id-11 div.sk-dashed-wrapped {border: 1px dashed gray;margin: 0 0.4em 0.5em 0.4em;box-sizing: border-box;padding-bottom: 0.4em;background-color: white;}#sk-container-id-11 div.sk-label label {font-family: monospace;font-weight: bold;display: inline-block;line-height: 1.2em;}#sk-container-id-11 div.sk-label-container {text-align: center;}#sk-container-id-11 div.sk-container {/* jupyter's `normalize.less` sets `[hidden] { display: none; }` but bootstrap.min.css set `[hidden] { display: none !important; }` so we also need the `!important` here to be able to override the default hidden behavior on the sphinx rendered scikit-learn.org. See: https://github.com/scikit-learn/scikit-learn/issues/21755 */display: inline-block !important;position: relative;}#sk-container-id-11 div.sk-text-repr-fallback {display: none;}</style><div id=\"sk-container-id-11\" class=\"sk-top-container\"><div class=\"sk-text-repr-fallback\"><pre>RandomForestClassifier(random_state=44)</pre><b>In a Jupyter environment, please rerun this cell to show the HTML representation or trust the notebook. <br />On GitHub, the HTML representation is unable to render, please try loading this page with nbviewer.org.</b></div><div class=\"sk-container\" hidden><div class=\"sk-item\"><div class=\"sk-estimator sk-toggleable\"><input class=\"sk-toggleable__control sk-hidden--visually\" id=\"sk-estimator-id-11\" type=\"checkbox\" checked><label for=\"sk-estimator-id-11\" class=\"sk-toggleable__label sk-toggleable__label-arrow\">RandomForestClassifier</label><div class=\"sk-toggleable__content\"><pre>RandomForestClassifier(random_state=44)</pre></div></div></div></div></div>"
      ],
      "text/plain": [
       "RandomForestClassifier(random_state=44)"
      ]
     },
     "execution_count": 129,
     "metadata": {},
     "output_type": "execute_result"
    }
   ],
   "source": [
    "from sklearn.ensemble import RandomForestClassifier\n",
    "clf = RandomForestClassifier(random_state = 44)\n",
    "clf.fit(X_train, Y_train)"
   ]
  },
  {
   "cell_type": "code",
   "execution_count": 134,
   "id": "f66e28b4",
   "metadata": {},
   "outputs": [
    {
     "data": {
      "text/plain": [
       "0.946875"
      ]
     },
     "execution_count": 134,
     "metadata": {},
     "output_type": "execute_result"
    }
   ],
   "source": [
    "clf = RandomForestClassifier()\n",
    "clf.fit(X_train,Y_train)\n",
    "clf.score(X_test,Y_test)"
   ]
  },
  {
   "cell_type": "code",
   "execution_count": 142,
   "id": "6e22f03d",
   "metadata": {},
   "outputs": [
    {
     "name": "stdout",
     "output_type": "stream",
     "text": [
      "Train Accuracy 1.0\n",
      "Test Accuracy 0.946875\n"
     ]
    }
   ],
   "source": [
    "print(\"Train Accuracy\", accuracy_score(clf.predict(X_train), Y_train))\n",
    "print(\"Test Accuracy\", accuracy_score(clf.predict(X_test), Y_test))\n",
    "y_pred = clf.predict(X_test)"
   ]
  },
  {
   "cell_type": "code",
   "execution_count": null,
   "id": "e41c4aee",
   "metadata": {},
   "outputs": [],
   "source": [
    "# SVM hypertuning\n",
    "svclassifier=SVC(kernel='linear')\n",
    "SVC_model=svclassifier.fit(X_train,Y_train)\n",
    "print(\"train score = \" + str(SVC_model.score(X_train,Y_train)))\n",
    "print(\"test score = \"+str(SVC_model.score(X_test,Y_test)))"
   ]
  },
  {
   "cell_type": "code",
   "execution_count": 147,
   "id": "0d0a5555",
   "metadata": {},
   "outputs": [],
   "source": [
    " from sklearn.model_selection import GridSearchCV"
   ]
  },
  {
   "cell_type": "code",
   "execution_count": null,
   "id": "98d93acc",
   "metadata": {},
   "outputs": [],
   "source": [
    "params={'C':[0.001,0.01,0.1,1,10,100],\n",
    "       'gamma':[0.001,0.01,0.1,1,10,100],\n",
    "        'kernel':['linear','poly','rbf','sigmoid']}\n",
    "\n",
    "\n",
    "grid_search=GridSearchCV(SVC(random_state=0),params,cv=5,n_jobs=-1)\n",
    "grid_search.fit(X_train,Y_train)\n",
    "\n",
    "print(\"train score = \"+str(grid_search.score(X_train,Y_train)))\n",
    "print(\"test score = \"+str(grid_search.score(X_test,Y_test)))"
   ]
  },
  {
   "cell_type": "code",
   "execution_count": null,
   "id": "f01edbb0",
   "metadata": {},
   "outputs": [],
   "source": []
  }
 ],
 "metadata": {
  "kernelspec": {
   "display_name": "Python 3 (ipykernel)",
   "language": "python",
   "name": "python3"
  },
  "language_info": {
   "codemirror_mode": {
    "name": "ipython",
    "version": 3
   },
   "file_extension": ".py",
   "mimetype": "text/x-python",
   "name": "python",
   "nbconvert_exporter": "python",
   "pygments_lexer": "ipython3",
   "version": "3.9.0"
  }
 },
 "nbformat": 4,
 "nbformat_minor": 5
}
